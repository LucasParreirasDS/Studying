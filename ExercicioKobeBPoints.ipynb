{
  "nbformat": 4,
  "nbformat_minor": 0,
  "metadata": {
    "colab": {
      "name": "ExercicioKobeBPoints.ipynb",
      "provenance": [],
      "include_colab_link": true
    },
    "kernelspec": {
      "name": "python3",
      "display_name": "Python 3"
    },
    "language_info": {
      "name": "python"
    }
  },
  "cells": [
    {
      "cell_type": "markdown",
      "metadata": {
        "id": "view-in-github",
        "colab_type": "text"
      },
      "source": [
        "<a href=\"https://colab.research.google.com/github/LucasParreirasDS/Studying/blob/main/ExercicioKobeBPoints.ipynb\" target=\"_parent\"><img src=\"https://colab.research.google.com/assets/colab-badge.svg\" alt=\"Open In Colab\"/></a>"
      ]
    },
    {
      "cell_type": "markdown",
      "source": [
        "# Exercício Arremessos Kobe Bryant"
      ],
      "metadata": {
        "id": "k153FfyWteL-"
      }
    },
    {
      "cell_type": "markdown",
      "source": [
        "## 1.   Baixar os dados do database do Kaggle sobre os arremessos do  Kobe Bryant e criar um dataframe de pandas\n",
        "\n",
        "\n",
        "\n",
        "\n",
        "\n",
        "\n",
        "\n",
        "\n"
      ],
      "metadata": {
        "id": "IRELKJq0R4Qy"
      }
    },
    {
      "cell_type": "code",
      "execution_count": 1,
      "metadata": {
        "id": "LO9Kk7GhRvzv"
      },
      "outputs": [],
      "source": [
        "import pandas as pd\n",
        "import numpy as np\n",
        "from google.colab import drive\n",
        "\n",
        "import matplotlib.pyplot as plt\n",
        "import seaborn as sns"
      ]
    },
    {
      "cell_type": "code",
      "source": [
        "# Montando drive para ler o dataset\n",
        "drive.mount('/content/drive/')\n",
        "path = '/content/drive/MyDrive/Datasets/'\n",
        "file_name = 'kobe_bryant_shots_data.csv'\n",
        "\n",
        "# carregando dataset\n",
        "file_path = path + file_name\n",
        "df = pd.read_csv(file_path)"
      ],
      "metadata": {
        "colab": {
          "base_uri": "https://localhost:8080/"
        },
        "id": "N5whBQ7tTOXS",
        "outputId": "893f4536-a1bd-4b1c-8d2c-6442cc243b28"
      },
      "execution_count": 2,
      "outputs": [
        {
          "output_type": "stream",
          "name": "stdout",
          "text": [
            "Mounted at /content/drive/\n"
          ]
        }
      ]
    },
    {
      "cell_type": "code",
      "source": [
        "df.head()"
      ],
      "metadata": {
        "colab": {
          "base_uri": "https://localhost:8080/",
          "height": 473
        },
        "id": "bPudQ1CFTrEz",
        "outputId": "3567b169-2384-477f-8b1b-16b5b290816f"
      },
      "execution_count": 3,
      "outputs": [
        {
          "output_type": "execute_result",
          "data": {
            "text/plain": [
              "         action_type combined_shot_type  game_event_id   game_id      lat  \\\n",
              "0          Jump Shot          Jump Shot             10  20000012  33.9723   \n",
              "1          Jump Shot          Jump Shot             12  20000012  34.0443   \n",
              "2          Jump Shot          Jump Shot             35  20000012  33.9093   \n",
              "3          Jump Shot          Jump Shot             43  20000012  33.8693   \n",
              "4  Driving Dunk Shot               Dunk            155  20000012  34.0443   \n",
              "\n",
              "   loc_x  loc_y       lon  minutes_remaining  period  ...       shot_type  \\\n",
              "0    167     72 -118.1028                 10       1  ...  2PT Field Goal   \n",
              "1   -157      0 -118.4268                 10       1  ...  2PT Field Goal   \n",
              "2   -101    135 -118.3708                  7       1  ...  2PT Field Goal   \n",
              "3    138    175 -118.1318                  6       1  ...  2PT Field Goal   \n",
              "4      0      0 -118.2698                  6       2  ...  2PT Field Goal   \n",
              "\n",
              "          shot_zone_area  shot_zone_basic  shot_zone_range     team_id  \\\n",
              "0          Right Side(R)        Mid-Range        16-24 ft.  1610612747   \n",
              "1           Left Side(L)        Mid-Range         8-16 ft.  1610612747   \n",
              "2   Left Side Center(LC)        Mid-Range        16-24 ft.  1610612747   \n",
              "3  Right Side Center(RC)        Mid-Range        16-24 ft.  1610612747   \n",
              "4              Center(C)  Restricted Area  Less Than 8 ft.  1610612747   \n",
              "\n",
              "            team_name   game_date    matchup opponent  shot_id  \n",
              "0  Los Angeles Lakers  2000-10-31  LAL @ POR      POR        1  \n",
              "1  Los Angeles Lakers  2000-10-31  LAL @ POR      POR        2  \n",
              "2  Los Angeles Lakers  2000-10-31  LAL @ POR      POR        3  \n",
              "3  Los Angeles Lakers  2000-10-31  LAL @ POR      POR        4  \n",
              "4  Los Angeles Lakers  2000-10-31  LAL @ POR      POR        5  \n",
              "\n",
              "[5 rows x 25 columns]"
            ],
            "text/html": [
              "\n",
              "  <div id=\"df-e27f84fa-21ba-4ba3-a5ed-d243bf0b1e14\">\n",
              "    <div class=\"colab-df-container\">\n",
              "      <div>\n",
              "<style scoped>\n",
              "    .dataframe tbody tr th:only-of-type {\n",
              "        vertical-align: middle;\n",
              "    }\n",
              "\n",
              "    .dataframe tbody tr th {\n",
              "        vertical-align: top;\n",
              "    }\n",
              "\n",
              "    .dataframe thead th {\n",
              "        text-align: right;\n",
              "    }\n",
              "</style>\n",
              "<table border=\"1\" class=\"dataframe\">\n",
              "  <thead>\n",
              "    <tr style=\"text-align: right;\">\n",
              "      <th></th>\n",
              "      <th>action_type</th>\n",
              "      <th>combined_shot_type</th>\n",
              "      <th>game_event_id</th>\n",
              "      <th>game_id</th>\n",
              "      <th>lat</th>\n",
              "      <th>loc_x</th>\n",
              "      <th>loc_y</th>\n",
              "      <th>lon</th>\n",
              "      <th>minutes_remaining</th>\n",
              "      <th>period</th>\n",
              "      <th>...</th>\n",
              "      <th>shot_type</th>\n",
              "      <th>shot_zone_area</th>\n",
              "      <th>shot_zone_basic</th>\n",
              "      <th>shot_zone_range</th>\n",
              "      <th>team_id</th>\n",
              "      <th>team_name</th>\n",
              "      <th>game_date</th>\n",
              "      <th>matchup</th>\n",
              "      <th>opponent</th>\n",
              "      <th>shot_id</th>\n",
              "    </tr>\n",
              "  </thead>\n",
              "  <tbody>\n",
              "    <tr>\n",
              "      <th>0</th>\n",
              "      <td>Jump Shot</td>\n",
              "      <td>Jump Shot</td>\n",
              "      <td>10</td>\n",
              "      <td>20000012</td>\n",
              "      <td>33.9723</td>\n",
              "      <td>167</td>\n",
              "      <td>72</td>\n",
              "      <td>-118.1028</td>\n",
              "      <td>10</td>\n",
              "      <td>1</td>\n",
              "      <td>...</td>\n",
              "      <td>2PT Field Goal</td>\n",
              "      <td>Right Side(R)</td>\n",
              "      <td>Mid-Range</td>\n",
              "      <td>16-24 ft.</td>\n",
              "      <td>1610612747</td>\n",
              "      <td>Los Angeles Lakers</td>\n",
              "      <td>2000-10-31</td>\n",
              "      <td>LAL @ POR</td>\n",
              "      <td>POR</td>\n",
              "      <td>1</td>\n",
              "    </tr>\n",
              "    <tr>\n",
              "      <th>1</th>\n",
              "      <td>Jump Shot</td>\n",
              "      <td>Jump Shot</td>\n",
              "      <td>12</td>\n",
              "      <td>20000012</td>\n",
              "      <td>34.0443</td>\n",
              "      <td>-157</td>\n",
              "      <td>0</td>\n",
              "      <td>-118.4268</td>\n",
              "      <td>10</td>\n",
              "      <td>1</td>\n",
              "      <td>...</td>\n",
              "      <td>2PT Field Goal</td>\n",
              "      <td>Left Side(L)</td>\n",
              "      <td>Mid-Range</td>\n",
              "      <td>8-16 ft.</td>\n",
              "      <td>1610612747</td>\n",
              "      <td>Los Angeles Lakers</td>\n",
              "      <td>2000-10-31</td>\n",
              "      <td>LAL @ POR</td>\n",
              "      <td>POR</td>\n",
              "      <td>2</td>\n",
              "    </tr>\n",
              "    <tr>\n",
              "      <th>2</th>\n",
              "      <td>Jump Shot</td>\n",
              "      <td>Jump Shot</td>\n",
              "      <td>35</td>\n",
              "      <td>20000012</td>\n",
              "      <td>33.9093</td>\n",
              "      <td>-101</td>\n",
              "      <td>135</td>\n",
              "      <td>-118.3708</td>\n",
              "      <td>7</td>\n",
              "      <td>1</td>\n",
              "      <td>...</td>\n",
              "      <td>2PT Field Goal</td>\n",
              "      <td>Left Side Center(LC)</td>\n",
              "      <td>Mid-Range</td>\n",
              "      <td>16-24 ft.</td>\n",
              "      <td>1610612747</td>\n",
              "      <td>Los Angeles Lakers</td>\n",
              "      <td>2000-10-31</td>\n",
              "      <td>LAL @ POR</td>\n",
              "      <td>POR</td>\n",
              "      <td>3</td>\n",
              "    </tr>\n",
              "    <tr>\n",
              "      <th>3</th>\n",
              "      <td>Jump Shot</td>\n",
              "      <td>Jump Shot</td>\n",
              "      <td>43</td>\n",
              "      <td>20000012</td>\n",
              "      <td>33.8693</td>\n",
              "      <td>138</td>\n",
              "      <td>175</td>\n",
              "      <td>-118.1318</td>\n",
              "      <td>6</td>\n",
              "      <td>1</td>\n",
              "      <td>...</td>\n",
              "      <td>2PT Field Goal</td>\n",
              "      <td>Right Side Center(RC)</td>\n",
              "      <td>Mid-Range</td>\n",
              "      <td>16-24 ft.</td>\n",
              "      <td>1610612747</td>\n",
              "      <td>Los Angeles Lakers</td>\n",
              "      <td>2000-10-31</td>\n",
              "      <td>LAL @ POR</td>\n",
              "      <td>POR</td>\n",
              "      <td>4</td>\n",
              "    </tr>\n",
              "    <tr>\n",
              "      <th>4</th>\n",
              "      <td>Driving Dunk Shot</td>\n",
              "      <td>Dunk</td>\n",
              "      <td>155</td>\n",
              "      <td>20000012</td>\n",
              "      <td>34.0443</td>\n",
              "      <td>0</td>\n",
              "      <td>0</td>\n",
              "      <td>-118.2698</td>\n",
              "      <td>6</td>\n",
              "      <td>2</td>\n",
              "      <td>...</td>\n",
              "      <td>2PT Field Goal</td>\n",
              "      <td>Center(C)</td>\n",
              "      <td>Restricted Area</td>\n",
              "      <td>Less Than 8 ft.</td>\n",
              "      <td>1610612747</td>\n",
              "      <td>Los Angeles Lakers</td>\n",
              "      <td>2000-10-31</td>\n",
              "      <td>LAL @ POR</td>\n",
              "      <td>POR</td>\n",
              "      <td>5</td>\n",
              "    </tr>\n",
              "  </tbody>\n",
              "</table>\n",
              "<p>5 rows × 25 columns</p>\n",
              "</div>\n",
              "      <button class=\"colab-df-convert\" onclick=\"convertToInteractive('df-e27f84fa-21ba-4ba3-a5ed-d243bf0b1e14')\"\n",
              "              title=\"Convert this dataframe to an interactive table.\"\n",
              "              style=\"display:none;\">\n",
              "        \n",
              "  <svg xmlns=\"http://www.w3.org/2000/svg\" height=\"24px\"viewBox=\"0 0 24 24\"\n",
              "       width=\"24px\">\n",
              "    <path d=\"M0 0h24v24H0V0z\" fill=\"none\"/>\n",
              "    <path d=\"M18.56 5.44l.94 2.06.94-2.06 2.06-.94-2.06-.94-.94-2.06-.94 2.06-2.06.94zm-11 1L8.5 8.5l.94-2.06 2.06-.94-2.06-.94L8.5 2.5l-.94 2.06-2.06.94zm10 10l.94 2.06.94-2.06 2.06-.94-2.06-.94-.94-2.06-.94 2.06-2.06.94z\"/><path d=\"M17.41 7.96l-1.37-1.37c-.4-.4-.92-.59-1.43-.59-.52 0-1.04.2-1.43.59L10.3 9.45l-7.72 7.72c-.78.78-.78 2.05 0 2.83L4 21.41c.39.39.9.59 1.41.59.51 0 1.02-.2 1.41-.59l7.78-7.78 2.81-2.81c.8-.78.8-2.07 0-2.86zM5.41 20L4 18.59l7.72-7.72 1.47 1.35L5.41 20z\"/>\n",
              "  </svg>\n",
              "      </button>\n",
              "      \n",
              "  <style>\n",
              "    .colab-df-container {\n",
              "      display:flex;\n",
              "      flex-wrap:wrap;\n",
              "      gap: 12px;\n",
              "    }\n",
              "\n",
              "    .colab-df-convert {\n",
              "      background-color: #E8F0FE;\n",
              "      border: none;\n",
              "      border-radius: 50%;\n",
              "      cursor: pointer;\n",
              "      display: none;\n",
              "      fill: #1967D2;\n",
              "      height: 32px;\n",
              "      padding: 0 0 0 0;\n",
              "      width: 32px;\n",
              "    }\n",
              "\n",
              "    .colab-df-convert:hover {\n",
              "      background-color: #E2EBFA;\n",
              "      box-shadow: 0px 1px 2px rgba(60, 64, 67, 0.3), 0px 1px 3px 1px rgba(60, 64, 67, 0.15);\n",
              "      fill: #174EA6;\n",
              "    }\n",
              "\n",
              "    [theme=dark] .colab-df-convert {\n",
              "      background-color: #3B4455;\n",
              "      fill: #D2E3FC;\n",
              "    }\n",
              "\n",
              "    [theme=dark] .colab-df-convert:hover {\n",
              "      background-color: #434B5C;\n",
              "      box-shadow: 0px 1px 3px 1px rgba(0, 0, 0, 0.15);\n",
              "      filter: drop-shadow(0px 1px 2px rgba(0, 0, 0, 0.3));\n",
              "      fill: #FFFFFF;\n",
              "    }\n",
              "  </style>\n",
              "\n",
              "      <script>\n",
              "        const buttonEl =\n",
              "          document.querySelector('#df-e27f84fa-21ba-4ba3-a5ed-d243bf0b1e14 button.colab-df-convert');\n",
              "        buttonEl.style.display =\n",
              "          google.colab.kernel.accessAllowed ? 'block' : 'none';\n",
              "\n",
              "        async function convertToInteractive(key) {\n",
              "          const element = document.querySelector('#df-e27f84fa-21ba-4ba3-a5ed-d243bf0b1e14');\n",
              "          const dataTable =\n",
              "            await google.colab.kernel.invokeFunction('convertToInteractive',\n",
              "                                                     [key], {});\n",
              "          if (!dataTable) return;\n",
              "\n",
              "          const docLinkHtml = 'Like what you see? Visit the ' +\n",
              "            '<a target=\"_blank\" href=https://colab.research.google.com/notebooks/data_table.ipynb>data table notebook</a>'\n",
              "            + ' to learn more about interactive tables.';\n",
              "          element.innerHTML = '';\n",
              "          dataTable['output_type'] = 'display_data';\n",
              "          await google.colab.output.renderOutput(dataTable, element);\n",
              "          const docLink = document.createElement('div');\n",
              "          docLink.innerHTML = docLinkHtml;\n",
              "          element.appendChild(docLink);\n",
              "        }\n",
              "      </script>\n",
              "    </div>\n",
              "  </div>\n",
              "  "
            ]
          },
          "metadata": {},
          "execution_count": 3
        }
      ]
    },
    {
      "cell_type": "markdown",
      "source": [
        "## 2.  Conte quantos arremessos foram convertidos (shot_made_flag)"
      ],
      "metadata": {
        "id": "5WxT203bsbHN"
      }
    },
    {
      "cell_type": "code",
      "source": [
        "df['shot_made_flag']"
      ],
      "metadata": {
        "colab": {
          "base_uri": "https://localhost:8080/"
        },
        "id": "ZTVr51hvVfXT",
        "outputId": "17fb5bb4-78d4-489f-ba3d-83aafdfbf6bc"
      },
      "execution_count": 4,
      "outputs": [
        {
          "output_type": "execute_result",
          "data": {
            "text/plain": [
              "0        NaN\n",
              "1        0.0\n",
              "2        1.0\n",
              "3        0.0\n",
              "4        1.0\n",
              "        ... \n",
              "30692    0.0\n",
              "30693    NaN\n",
              "30694    1.0\n",
              "30695    0.0\n",
              "30696    0.0\n",
              "Name: shot_made_flag, Length: 30697, dtype: float64"
            ]
          },
          "metadata": {},
          "execution_count": 4
        }
      ]
    },
    {
      "cell_type": "code",
      "source": [
        "df[['shot_made_flag']].isnull().sum()"
      ],
      "metadata": {
        "id": "PhhXlVgts3JW",
        "colab": {
          "base_uri": "https://localhost:8080/"
        },
        "outputId": "184b6272-b266-4197-b05e-4c76453b4f1d"
      },
      "execution_count": 5,
      "outputs": [
        {
          "output_type": "execute_result",
          "data": {
            "text/plain": [
              "shot_made_flag    5000\n",
              "dtype: int64"
            ]
          },
          "metadata": {},
          "execution_count": 5
        }
      ]
    },
    {
      "cell_type": "code",
      "source": [
        "# Retirando linhas em que 'shot_made_flag' é NaN\n",
        "df = df[~df['shot_made_flag'].isnull()]"
      ],
      "metadata": {
        "id": "d8TVB0nhVrdr"
      },
      "execution_count": 6,
      "outputs": []
    },
    {
      "cell_type": "code",
      "source": [
        "df[['shot_made_flag']].isnull().sum()"
      ],
      "metadata": {
        "colab": {
          "base_uri": "https://localhost:8080/"
        },
        "id": "Ce44lJpEWkWs",
        "outputId": "76890d27-2a74-4a36-e523-d820be4f53ba"
      },
      "execution_count": 7,
      "outputs": [
        {
          "output_type": "execute_result",
          "data": {
            "text/plain": [
              "shot_made_flag    0\n",
              "dtype: int64"
            ]
          },
          "metadata": {},
          "execution_count": 7
        }
      ]
    },
    {
      "cell_type": "code",
      "source": [
        "# Resposta\n",
        "num_convert = df['shot_made_flag'].loc[df['shot_made_flag'] == 1].count()\n",
        "print(f' N° de arremessos convertidos: {num_convert}')"
      ],
      "metadata": {
        "colab": {
          "base_uri": "https://localhost:8080/"
        },
        "id": "Fl4cUnHYXfwY",
        "outputId": "b79f329a-a443-4c66-ce5f-68f151ef80cb"
      },
      "execution_count": 9,
      "outputs": [
        {
          "output_type": "stream",
          "name": "stdout",
          "text": [
            " N° de arremessos convertidos: 11465\n"
          ]
        }
      ]
    },
    {
      "cell_type": "markdown",
      "source": [
        "## 3.  Calcule qual foi a taxa de sucesso (eficiência) para todos os arremessos (total de arremessos covertidos/ total de arremessos feitos)"
      ],
      "metadata": {
        "id": "SDHPfXRzYB8U"
      }
    },
    {
      "cell_type": "code",
      "source": [
        "# Resposta\n",
        "convert_percent = (num_convert/df.shape[0])*100\n",
        "print(f'Taxa de sucesso: {convert_percent.round(2)}%')"
      ],
      "metadata": {
        "colab": {
          "base_uri": "https://localhost:8080/"
        },
        "id": "8bkwJSnmXv7B",
        "outputId": "a81f98ac-19a2-4d21-ad94-25fa5475cda4"
      },
      "execution_count": 10,
      "outputs": [
        {
          "output_type": "stream",
          "name": "stdout",
          "text": [
            "Taxa de sucesso: 44.62%\n"
          ]
        }
      ]
    },
    {
      "cell_type": "markdown",
      "source": [
        "## 4.  Qual foi o arremesso convertido mais distante?"
      ],
      "metadata": {
        "id": "BeNQLWTLYZlg"
      }
    },
    {
      "cell_type": "code",
      "source": [
        "# Criando DF para arremesoss convertidos\n",
        "convert = df.loc[df['shot_made_flag'] == 1]\n",
        "convert.head()"
      ],
      "metadata": {
        "colab": {
          "base_uri": "https://localhost:8080/",
          "height": 473
        },
        "id": "X-acRh-DYeaF",
        "outputId": "61071388-16a9-464e-a0a3-bbac946fe2f4"
      },
      "execution_count": 11,
      "outputs": [
        {
          "output_type": "execute_result",
          "data": {
            "text/plain": [
              "          action_type combined_shot_type  game_event_id   game_id      lat  \\\n",
              "2           Jump Shot          Jump Shot             35  20000012  33.9093   \n",
              "4   Driving Dunk Shot               Dunk            155  20000012  34.0443   \n",
              "6          Layup Shot              Layup            251  20000012  34.0443   \n",
              "8           Jump Shot          Jump Shot            265  20000012  33.9363   \n",
              "11          Jump Shot          Jump Shot              4  20000019  33.9173   \n",
              "\n",
              "    loc_x  loc_y       lon  minutes_remaining  period  ...       shot_type  \\\n",
              "2    -101    135 -118.3708                  7       1  ...  2PT Field Goal   \n",
              "4       0      0 -118.2698                  6       2  ...  2PT Field Goal   \n",
              "6       0      0 -118.2698                  8       3  ...  2PT Field Goal   \n",
              "8     -65    108 -118.3348                  6       3  ...  2PT Field Goal   \n",
              "11    121    127 -118.1488                 11       1  ...  2PT Field Goal   \n",
              "\n",
              "           shot_zone_area        shot_zone_basic  shot_zone_range     team_id  \\\n",
              "2    Left Side Center(LC)              Mid-Range        16-24 ft.  1610612747   \n",
              "4               Center(C)        Restricted Area  Less Than 8 ft.  1610612747   \n",
              "6               Center(C)        Restricted Area  Less Than 8 ft.  1610612747   \n",
              "8            Left Side(L)  In The Paint (Non-RA)         8-16 ft.  1610612747   \n",
              "11  Right Side Center(RC)              Mid-Range        16-24 ft.  1610612747   \n",
              "\n",
              "             team_name   game_date      matchup opponent  shot_id  \n",
              "2   Los Angeles Lakers  2000-10-31    LAL @ POR      POR        3  \n",
              "4   Los Angeles Lakers  2000-10-31    LAL @ POR      POR        5  \n",
              "6   Los Angeles Lakers  2000-10-31    LAL @ POR      POR        7  \n",
              "8   Los Angeles Lakers  2000-10-31    LAL @ POR      POR        9  \n",
              "11  Los Angeles Lakers  2000-11-01  LAL vs. UTA      UTA       12  \n",
              "\n",
              "[5 rows x 25 columns]"
            ],
            "text/html": [
              "\n",
              "  <div id=\"df-f3fa90e4-8edb-49dc-ac6b-d11d5e3ee141\">\n",
              "    <div class=\"colab-df-container\">\n",
              "      <div>\n",
              "<style scoped>\n",
              "    .dataframe tbody tr th:only-of-type {\n",
              "        vertical-align: middle;\n",
              "    }\n",
              "\n",
              "    .dataframe tbody tr th {\n",
              "        vertical-align: top;\n",
              "    }\n",
              "\n",
              "    .dataframe thead th {\n",
              "        text-align: right;\n",
              "    }\n",
              "</style>\n",
              "<table border=\"1\" class=\"dataframe\">\n",
              "  <thead>\n",
              "    <tr style=\"text-align: right;\">\n",
              "      <th></th>\n",
              "      <th>action_type</th>\n",
              "      <th>combined_shot_type</th>\n",
              "      <th>game_event_id</th>\n",
              "      <th>game_id</th>\n",
              "      <th>lat</th>\n",
              "      <th>loc_x</th>\n",
              "      <th>loc_y</th>\n",
              "      <th>lon</th>\n",
              "      <th>minutes_remaining</th>\n",
              "      <th>period</th>\n",
              "      <th>...</th>\n",
              "      <th>shot_type</th>\n",
              "      <th>shot_zone_area</th>\n",
              "      <th>shot_zone_basic</th>\n",
              "      <th>shot_zone_range</th>\n",
              "      <th>team_id</th>\n",
              "      <th>team_name</th>\n",
              "      <th>game_date</th>\n",
              "      <th>matchup</th>\n",
              "      <th>opponent</th>\n",
              "      <th>shot_id</th>\n",
              "    </tr>\n",
              "  </thead>\n",
              "  <tbody>\n",
              "    <tr>\n",
              "      <th>2</th>\n",
              "      <td>Jump Shot</td>\n",
              "      <td>Jump Shot</td>\n",
              "      <td>35</td>\n",
              "      <td>20000012</td>\n",
              "      <td>33.9093</td>\n",
              "      <td>-101</td>\n",
              "      <td>135</td>\n",
              "      <td>-118.3708</td>\n",
              "      <td>7</td>\n",
              "      <td>1</td>\n",
              "      <td>...</td>\n",
              "      <td>2PT Field Goal</td>\n",
              "      <td>Left Side Center(LC)</td>\n",
              "      <td>Mid-Range</td>\n",
              "      <td>16-24 ft.</td>\n",
              "      <td>1610612747</td>\n",
              "      <td>Los Angeles Lakers</td>\n",
              "      <td>2000-10-31</td>\n",
              "      <td>LAL @ POR</td>\n",
              "      <td>POR</td>\n",
              "      <td>3</td>\n",
              "    </tr>\n",
              "    <tr>\n",
              "      <th>4</th>\n",
              "      <td>Driving Dunk Shot</td>\n",
              "      <td>Dunk</td>\n",
              "      <td>155</td>\n",
              "      <td>20000012</td>\n",
              "      <td>34.0443</td>\n",
              "      <td>0</td>\n",
              "      <td>0</td>\n",
              "      <td>-118.2698</td>\n",
              "      <td>6</td>\n",
              "      <td>2</td>\n",
              "      <td>...</td>\n",
              "      <td>2PT Field Goal</td>\n",
              "      <td>Center(C)</td>\n",
              "      <td>Restricted Area</td>\n",
              "      <td>Less Than 8 ft.</td>\n",
              "      <td>1610612747</td>\n",
              "      <td>Los Angeles Lakers</td>\n",
              "      <td>2000-10-31</td>\n",
              "      <td>LAL @ POR</td>\n",
              "      <td>POR</td>\n",
              "      <td>5</td>\n",
              "    </tr>\n",
              "    <tr>\n",
              "      <th>6</th>\n",
              "      <td>Layup Shot</td>\n",
              "      <td>Layup</td>\n",
              "      <td>251</td>\n",
              "      <td>20000012</td>\n",
              "      <td>34.0443</td>\n",
              "      <td>0</td>\n",
              "      <td>0</td>\n",
              "      <td>-118.2698</td>\n",
              "      <td>8</td>\n",
              "      <td>3</td>\n",
              "      <td>...</td>\n",
              "      <td>2PT Field Goal</td>\n",
              "      <td>Center(C)</td>\n",
              "      <td>Restricted Area</td>\n",
              "      <td>Less Than 8 ft.</td>\n",
              "      <td>1610612747</td>\n",
              "      <td>Los Angeles Lakers</td>\n",
              "      <td>2000-10-31</td>\n",
              "      <td>LAL @ POR</td>\n",
              "      <td>POR</td>\n",
              "      <td>7</td>\n",
              "    </tr>\n",
              "    <tr>\n",
              "      <th>8</th>\n",
              "      <td>Jump Shot</td>\n",
              "      <td>Jump Shot</td>\n",
              "      <td>265</td>\n",
              "      <td>20000012</td>\n",
              "      <td>33.9363</td>\n",
              "      <td>-65</td>\n",
              "      <td>108</td>\n",
              "      <td>-118.3348</td>\n",
              "      <td>6</td>\n",
              "      <td>3</td>\n",
              "      <td>...</td>\n",
              "      <td>2PT Field Goal</td>\n",
              "      <td>Left Side(L)</td>\n",
              "      <td>In The Paint (Non-RA)</td>\n",
              "      <td>8-16 ft.</td>\n",
              "      <td>1610612747</td>\n",
              "      <td>Los Angeles Lakers</td>\n",
              "      <td>2000-10-31</td>\n",
              "      <td>LAL @ POR</td>\n",
              "      <td>POR</td>\n",
              "      <td>9</td>\n",
              "    </tr>\n",
              "    <tr>\n",
              "      <th>11</th>\n",
              "      <td>Jump Shot</td>\n",
              "      <td>Jump Shot</td>\n",
              "      <td>4</td>\n",
              "      <td>20000019</td>\n",
              "      <td>33.9173</td>\n",
              "      <td>121</td>\n",
              "      <td>127</td>\n",
              "      <td>-118.1488</td>\n",
              "      <td>11</td>\n",
              "      <td>1</td>\n",
              "      <td>...</td>\n",
              "      <td>2PT Field Goal</td>\n",
              "      <td>Right Side Center(RC)</td>\n",
              "      <td>Mid-Range</td>\n",
              "      <td>16-24 ft.</td>\n",
              "      <td>1610612747</td>\n",
              "      <td>Los Angeles Lakers</td>\n",
              "      <td>2000-11-01</td>\n",
              "      <td>LAL vs. UTA</td>\n",
              "      <td>UTA</td>\n",
              "      <td>12</td>\n",
              "    </tr>\n",
              "  </tbody>\n",
              "</table>\n",
              "<p>5 rows × 25 columns</p>\n",
              "</div>\n",
              "      <button class=\"colab-df-convert\" onclick=\"convertToInteractive('df-f3fa90e4-8edb-49dc-ac6b-d11d5e3ee141')\"\n",
              "              title=\"Convert this dataframe to an interactive table.\"\n",
              "              style=\"display:none;\">\n",
              "        \n",
              "  <svg xmlns=\"http://www.w3.org/2000/svg\" height=\"24px\"viewBox=\"0 0 24 24\"\n",
              "       width=\"24px\">\n",
              "    <path d=\"M0 0h24v24H0V0z\" fill=\"none\"/>\n",
              "    <path d=\"M18.56 5.44l.94 2.06.94-2.06 2.06-.94-2.06-.94-.94-2.06-.94 2.06-2.06.94zm-11 1L8.5 8.5l.94-2.06 2.06-.94-2.06-.94L8.5 2.5l-.94 2.06-2.06.94zm10 10l.94 2.06.94-2.06 2.06-.94-2.06-.94-.94-2.06-.94 2.06-2.06.94z\"/><path d=\"M17.41 7.96l-1.37-1.37c-.4-.4-.92-.59-1.43-.59-.52 0-1.04.2-1.43.59L10.3 9.45l-7.72 7.72c-.78.78-.78 2.05 0 2.83L4 21.41c.39.39.9.59 1.41.59.51 0 1.02-.2 1.41-.59l7.78-7.78 2.81-2.81c.8-.78.8-2.07 0-2.86zM5.41 20L4 18.59l7.72-7.72 1.47 1.35L5.41 20z\"/>\n",
              "  </svg>\n",
              "      </button>\n",
              "      \n",
              "  <style>\n",
              "    .colab-df-container {\n",
              "      display:flex;\n",
              "      flex-wrap:wrap;\n",
              "      gap: 12px;\n",
              "    }\n",
              "\n",
              "    .colab-df-convert {\n",
              "      background-color: #E8F0FE;\n",
              "      border: none;\n",
              "      border-radius: 50%;\n",
              "      cursor: pointer;\n",
              "      display: none;\n",
              "      fill: #1967D2;\n",
              "      height: 32px;\n",
              "      padding: 0 0 0 0;\n",
              "      width: 32px;\n",
              "    }\n",
              "\n",
              "    .colab-df-convert:hover {\n",
              "      background-color: #E2EBFA;\n",
              "      box-shadow: 0px 1px 2px rgba(60, 64, 67, 0.3), 0px 1px 3px 1px rgba(60, 64, 67, 0.15);\n",
              "      fill: #174EA6;\n",
              "    }\n",
              "\n",
              "    [theme=dark] .colab-df-convert {\n",
              "      background-color: #3B4455;\n",
              "      fill: #D2E3FC;\n",
              "    }\n",
              "\n",
              "    [theme=dark] .colab-df-convert:hover {\n",
              "      background-color: #434B5C;\n",
              "      box-shadow: 0px 1px 3px 1px rgba(0, 0, 0, 0.15);\n",
              "      filter: drop-shadow(0px 1px 2px rgba(0, 0, 0, 0.3));\n",
              "      fill: #FFFFFF;\n",
              "    }\n",
              "  </style>\n",
              "\n",
              "      <script>\n",
              "        const buttonEl =\n",
              "          document.querySelector('#df-f3fa90e4-8edb-49dc-ac6b-d11d5e3ee141 button.colab-df-convert');\n",
              "        buttonEl.style.display =\n",
              "          google.colab.kernel.accessAllowed ? 'block' : 'none';\n",
              "\n",
              "        async function convertToInteractive(key) {\n",
              "          const element = document.querySelector('#df-f3fa90e4-8edb-49dc-ac6b-d11d5e3ee141');\n",
              "          const dataTable =\n",
              "            await google.colab.kernel.invokeFunction('convertToInteractive',\n",
              "                                                     [key], {});\n",
              "          if (!dataTable) return;\n",
              "\n",
              "          const docLinkHtml = 'Like what you see? Visit the ' +\n",
              "            '<a target=\"_blank\" href=https://colab.research.google.com/notebooks/data_table.ipynb>data table notebook</a>'\n",
              "            + ' to learn more about interactive tables.';\n",
              "          element.innerHTML = '';\n",
              "          dataTable['output_type'] = 'display_data';\n",
              "          await google.colab.output.renderOutput(dataTable, element);\n",
              "          const docLink = document.createElement('div');\n",
              "          docLink.innerHTML = docLinkHtml;\n",
              "          element.appendChild(docLink);\n",
              "        }\n",
              "      </script>\n",
              "    </div>\n",
              "  </div>\n",
              "  "
            ]
          },
          "metadata": {},
          "execution_count": 11
        }
      ]
    },
    {
      "cell_type": "code",
      "source": [
        "# Resposta\n",
        "print(f'O arremesso mais distante convertido foi de {max(convert.shot_distance)} ft (pés)')"
      ],
      "metadata": {
        "colab": {
          "base_uri": "https://localhost:8080/"
        },
        "id": "1Vf3ycbHYrKj",
        "outputId": "cae95346-2875-4682-b816-2455eaa7a146"
      },
      "execution_count": 12,
      "outputs": [
        {
          "output_type": "stream",
          "name": "stdout",
          "text": [
            "O arremesso mais distante convertido foi de 43 ft (pés)\n"
          ]
        }
      ]
    },
    {
      "cell_type": "markdown",
      "source": [
        "## 5.  Qual a distância média dos arremessos convertidos? Qual a distância média dos arremessos não-convertidos?"
      ],
      "metadata": {
        "id": "ChRlfYFXZIQY"
      }
    },
    {
      "cell_type": "code",
      "source": [
        "# Criando DF para arremesoss não-convertidos\n",
        "no_convert = df.loc[df['shot_made_flag'] == 0]\n",
        "no_convert.head()"
      ],
      "metadata": {
        "id": "l4upDuUNYuew"
      },
      "execution_count": 13,
      "outputs": []
    },
    {
      "cell_type": "code",
      "source": [
        "# Resposta arremessos convertidos\n",
        "convert.shot_distance.mean()"
      ],
      "metadata": {
        "colab": {
          "base_uri": "https://localhost:8080/"
        },
        "id": "2zt3CWGTZY0s",
        "outputId": "f2dc962b-0430-40f7-da04-1681310115e3"
      },
      "execution_count": 14,
      "outputs": [
        {
          "output_type": "execute_result",
          "data": {
            "text/plain": [
              "11.383427823811601"
            ]
          },
          "metadata": {},
          "execution_count": 14
        }
      ]
    },
    {
      "cell_type": "code",
      "source": [
        "# Resposta arremessos não-convertidos\n",
        "no_convert.shot_distance.mean()"
      ],
      "metadata": {
        "colab": {
          "base_uri": "https://localhost:8080/"
        },
        "id": "fJXjIktSZ6Zb",
        "outputId": "d18476d1-9208-4a7f-f2af-efcd0e2703fa"
      },
      "execution_count": 15,
      "outputs": [
        {
          "output_type": "execute_result",
          "data": {
            "text/plain": [
              "15.12759977515458"
            ]
          },
          "metadata": {},
          "execution_count": 15
        }
      ]
    },
    {
      "cell_type": "code",
      "source": [
        "print(f'Distância media de arremessos convertidos: {round(convert.shot_distance.mean(), 2)}ft\\nDistância media de arremessos não convertidos: {round(no_convert.shot_distance.mean(), 2)}ft')"
      ],
      "metadata": {
        "colab": {
          "base_uri": "https://localhost:8080/"
        },
        "id": "ZRdq0ZgCxUHG",
        "outputId": "efb9e4a1-19c2-4d86-bbd0-e7221f34325b"
      },
      "execution_count": 20,
      "outputs": [
        {
          "output_type": "stream",
          "name": "stdout",
          "text": [
            "Distância media de arremessos convertidos: 11.38ft\n",
            "Distância media de arremessos não convertidos: 15.13ft\n"
          ]
        }
      ]
    },
    {
      "cell_type": "markdown",
      "source": [
        "## 6.  Qual o quarto do jogo que o Kobe Bryant é mais eficiente?"
      ],
      "metadata": {
        "id": "EJaTxi4HaDDe"
      }
    },
    {
      "cell_type": "code",
      "source": [
        "df.period.value_counts()"
      ],
      "metadata": {
        "colab": {
          "base_uri": "https://localhost:8080/"
        },
        "id": "k3MbdfDRaFT8",
        "outputId": "464a4a08-572a-48f1-ee11-e384e8a86cc1"
      },
      "execution_count": 21,
      "outputs": [
        {
          "output_type": "execute_result",
          "data": {
            "text/plain": [
              "3    7002\n",
              "1    6700\n",
              "4    6043\n",
              "2    5635\n",
              "5     280\n",
              "6      30\n",
              "7       7\n",
              "Name: period, dtype: int64"
            ]
          },
          "metadata": {},
          "execution_count": 21
        }
      ]
    },
    {
      "cell_type": "code",
      "source": [
        "point = df.groupby(by='period')['shot_made_flag'].sum()\n",
        "point"
      ],
      "metadata": {
        "colab": {
          "base_uri": "https://localhost:8080/"
        },
        "id": "9RKyKypmzEnX",
        "outputId": "2b1c06ba-4805-448b-dbbe-ac0d0179f05f"
      },
      "execution_count": 29,
      "outputs": [
        {
          "output_type": "execute_result",
          "data": {
            "text/plain": [
              "period\n",
              "1    3120.0\n",
              "2    2529.0\n",
              "3    3175.0\n",
              "4    2500.0\n",
              "5     124.0\n",
              "6      14.0\n",
              "7       3.0\n",
              "Name: shot_made_flag, dtype: float64"
            ]
          },
          "metadata": {},
          "execution_count": 29
        }
      ]
    },
    {
      "cell_type": "code",
      "source": [
        "count = df.groupby(by='period')['shot_made_flag'].count()\n",
        "count"
      ],
      "metadata": {
        "colab": {
          "base_uri": "https://localhost:8080/"
        },
        "id": "4dD-ts8AzYk_",
        "outputId": "3c60692a-e80c-490b-8c15-26e39debfd04"
      },
      "execution_count": 28,
      "outputs": [
        {
          "output_type": "execute_result",
          "data": {
            "text/plain": [
              "period\n",
              "1    6700\n",
              "2    5635\n",
              "3    7002\n",
              "4    6043\n",
              "5     280\n",
              "6      30\n",
              "7       7\n",
              "Name: shot_made_flag, dtype: int64"
            ]
          },
          "metadata": {},
          "execution_count": 28
        }
      ]
    },
    {
      "cell_type": "code",
      "source": [
        "(point/count).sort_values(ascending=False)"
      ],
      "metadata": {
        "colab": {
          "base_uri": "https://localhost:8080/"
        },
        "id": "da2mbJBAzsMw",
        "outputId": "bb7ce4e3-928e-4263-a7d1-3d2e93b54608"
      },
      "execution_count": 33,
      "outputs": [
        {
          "output_type": "execute_result",
          "data": {
            "text/plain": [
              "period\n",
              "6    0.466667\n",
              "1    0.465672\n",
              "3    0.453442\n",
              "2    0.448802\n",
              "5    0.442857\n",
              "7    0.428571\n",
              "4    0.413702\n",
              "Name: shot_made_flag, dtype: float64"
            ]
          },
          "metadata": {},
          "execution_count": 33
        }
      ]
    },
    {
      "cell_type": "code",
      "source": [
        "print('Melhor quarto: 6º\\nMelhor quarto contando apenas os 4 regulares: 1°')"
      ],
      "metadata": {
        "colab": {
          "base_uri": "https://localhost:8080/"
        },
        "id": "fl9IDv54k8vC",
        "outputId": "f6ac637d-5a1e-4346-c09a-7b103d4ac057"
      },
      "execution_count": 35,
      "outputs": [
        {
          "output_type": "stream",
          "name": "stdout",
          "text": [
            "Melhor quarto: 6º\n",
            "Melhor quarto contando apenas os 4 regulares: 1°\n"
          ]
        }
      ]
    },
    {
      "cell_type": "markdown",
      "source": [
        "## 7.  Agrupe pelo tipo de arremesso e descubra qual tipo de arremesso que o Kobe Bryant é mais eficiente."
      ],
      "metadata": {
        "id": "cq667JqLlszr"
      }
    },
    {
      "cell_type": "code",
      "source": [
        "point = df.groupby(by='shot_type')['shot_made_flag'].sum()\n",
        "point"
      ],
      "metadata": {
        "colab": {
          "base_uri": "https://localhost:8080/"
        },
        "id": "FOfXPYg-lTsu",
        "outputId": "a57295eb-d883-4e72-e2e1-a6ce81cfd7ee"
      },
      "execution_count": 39,
      "outputs": [
        {
          "output_type": "execute_result",
          "data": {
            "text/plain": [
              "shot_type\n",
              "2PT Field Goal    9683.0\n",
              "3PT Field Goal    1782.0\n",
              "Name: shot_made_flag, dtype: float64"
            ]
          },
          "metadata": {},
          "execution_count": 39
        }
      ]
    },
    {
      "cell_type": "code",
      "source": [
        "count = df.groupby(by='shot_type')['shot_made_flag'].count()\n",
        "count"
      ],
      "metadata": {
        "colab": {
          "base_uri": "https://localhost:8080/"
        },
        "id": "12hyzOhYmRLZ",
        "outputId": "49b26aab-4f00-4d47-e7eb-95bfd17a28d7"
      },
      "execution_count": 40,
      "outputs": [
        {
          "output_type": "execute_result",
          "data": {
            "text/plain": [
              "shot_type\n",
              "2PT Field Goal    20285\n",
              "3PT Field Goal     5412\n",
              "Name: shot_made_flag, dtype: int64"
            ]
          },
          "metadata": {},
          "execution_count": 40
        }
      ]
    },
    {
      "cell_type": "code",
      "source": [
        "shot_type_eff = point/count*100\n",
        "shot_type_eff"
      ],
      "metadata": {
        "colab": {
          "base_uri": "https://localhost:8080/"
        },
        "id": "JyslSl3nmXxk",
        "outputId": "fbe40edb-c454-4f64-edfb-4b80142dc8e8"
      },
      "execution_count": 46,
      "outputs": [
        {
          "output_type": "execute_result",
          "data": {
            "text/plain": [
              "shot_type\n",
              "2PT Field Goal    47.734779\n",
              "3PT Field Goal    32.926829\n",
              "Name: shot_made_flag, dtype: float64"
            ]
          },
          "metadata": {},
          "execution_count": 46
        }
      ]
    },
    {
      "cell_type": "code",
      "source": [
        "print(f'Ele é mais eficiente nos arremessos de 2 pontos.\\n\\n2PT:: {shot_type_eff.iloc[0].round(2)}%\\n3PT: {shot_type_eff.iloc[1].round(2)}%')"
      ],
      "metadata": {
        "colab": {
          "base_uri": "https://localhost:8080/"
        },
        "id": "N9cUv9iPmgu_",
        "outputId": "8c361cd8-f3aa-4e19-ae3f-26c82be0ccc0"
      },
      "execution_count": 50,
      "outputs": [
        {
          "output_type": "stream",
          "name": "stdout",
          "text": [
            "Ele é mais eficiente nos arremessos de 2 pontos.\n",
            "\n",
            "2PT:: 47.73%\n",
            "3PT: 32.93%\n"
          ]
        }
      ]
    },
    {
      "cell_type": "markdown",
      "source": [
        "## 8.  Qual foi a melhor temporada do Kobe Bryant em relação a percentual de cestas convertidas?"
      ],
      "metadata": {
        "id": "RDdVTaRin_-i"
      }
    },
    {
      "cell_type": "code",
      "source": [
        "df.groupby(by='season')['shot_made_flag'].sum()"
      ],
      "metadata": {
        "colab": {
          "base_uri": "https://localhost:8080/"
        },
        "id": "HyTghxmongYY",
        "outputId": "41823fd8-5335-48dd-9b38-161166c604e0"
      },
      "execution_count": 51,
      "outputs": [
        {
          "output_type": "execute_result",
          "data": {
            "text/plain": [
              "season\n",
              "1996-97    162.0\n",
              "1997-98    349.0\n",
              "1998-99    351.0\n",
              "1999-00    604.0\n",
              "2000-01    735.0\n",
              "2001-02    783.0\n",
              "2002-03    808.0\n",
              "2003-04    594.0\n",
              "2004-05    492.0\n",
              "2005-06    873.0\n",
              "2006-07    723.0\n",
              "2007-08    852.0\n",
              "2008-09    866.0\n",
              "2009-10    804.0\n",
              "2010-11    679.0\n",
              "2011-12    603.0\n",
              "2012-13    608.0\n",
              "2013-14     24.0\n",
              "2014-15    223.0\n",
              "2015-16    332.0\n",
              "Name: shot_made_flag, dtype: float64"
            ]
          },
          "metadata": {},
          "execution_count": 51
        }
      ]
    },
    {
      "cell_type": "code",
      "source": [
        "df.groupby(by='season')['shot_made_flag'].count()"
      ],
      "metadata": {
        "colab": {
          "base_uri": "https://localhost:8080/"
        },
        "id": "3cpcuVb5oD4F",
        "outputId": "397f6935-934c-4d0f-bffe-88e4df0a9ed1"
      },
      "execution_count": 52,
      "outputs": [
        {
          "output_type": "execute_result",
          "data": {
            "text/plain": [
              "season\n",
              "1996-97     383\n",
              "1997-98     810\n",
              "1998-99     765\n",
              "1999-00    1312\n",
              "2000-01    1575\n",
              "2001-02    1708\n",
              "2002-03    1852\n",
              "2003-04    1371\n",
              "2004-05    1127\n",
              "2005-06    1924\n",
              "2006-07    1579\n",
              "2007-08    1819\n",
              "2008-09    1851\n",
              "2009-10    1772\n",
              "2010-11    1521\n",
              "2011-12    1416\n",
              "2012-13    1328\n",
              "2013-14      59\n",
              "2014-15     593\n",
              "2015-16     932\n",
              "Name: shot_made_flag, dtype: int64"
            ]
          },
          "metadata": {},
          "execution_count": 52
        }
      ]
    },
    {
      "cell_type": "code",
      "source": [
        "season_eff = df.groupby(by='season')['shot_made_flag'].sum()/df.groupby(by='season')['shot_made_flag'].count()"
      ],
      "metadata": {
        "id": "zE99KmIkoHLS"
      },
      "execution_count": 53,
      "outputs": []
    },
    {
      "cell_type": "code",
      "source": [
        "season_eff.sort_values(ascending=False)"
      ],
      "metadata": {
        "colab": {
          "base_uri": "https://localhost:8080/"
        },
        "id": "155K1RbHo0Pq",
        "outputId": "95392019-5f92-444e-9bbf-a170361544c5"
      },
      "execution_count": 54,
      "outputs": [
        {
          "output_type": "execute_result",
          "data": {
            "text/plain": [
              "season\n",
              "2007-08    0.468389\n",
              "2008-09    0.467855\n",
              "2000-01    0.466667\n",
              "1999-00    0.460366\n",
              "1998-99    0.458824\n",
              "2001-02    0.458431\n",
              "2006-07    0.457885\n",
              "2012-13    0.457831\n",
              "2005-06    0.453742\n",
              "2009-10    0.453725\n",
              "2010-11    0.446417\n",
              "2004-05    0.436557\n",
              "2002-03    0.436285\n",
              "2003-04    0.433260\n",
              "1997-98    0.430864\n",
              "2011-12    0.425847\n",
              "1996-97    0.422977\n",
              "2013-14    0.406780\n",
              "2014-15    0.376054\n",
              "2015-16    0.356223\n",
              "Name: shot_made_flag, dtype: float64"
            ]
          },
          "metadata": {},
          "execution_count": 54
        }
      ]
    },
    {
      "cell_type": "code",
      "source": [
        "print(f'A melhor temporada foi 07-08 com 46.83% de aproveitamento')"
      ],
      "metadata": {
        "colab": {
          "base_uri": "https://localhost:8080/"
        },
        "id": "0DXZF37So5lE",
        "outputId": "9ff7fe06-cf08-4e61-85c8-a7d91bbedd68"
      },
      "execution_count": 58,
      "outputs": [
        {
          "output_type": "stream",
          "name": "stdout",
          "text": [
            "A melhor temporada foi 07-08 com 46.83% de aproveitamento\n"
          ]
        }
      ]
    },
    {
      "cell_type": "markdown",
      "source": [
        "## 9.  Agrupe pela temporada e pelo tipo de arremesso"
      ],
      "metadata": {
        "id": "qJQWfq8RpM3-"
      }
    },
    {
      "cell_type": "code",
      "source": [
        "df.replace({'2PT Field Goal': 2, '3PT Field Goal': 3}, inplace=True)"
      ],
      "metadata": {
        "id": "dfLZH9Ly16KE"
      },
      "execution_count": 62,
      "outputs": []
    },
    {
      "cell_type": "code",
      "source": [
        "df['points'] = df.shot_type*df.shot_made_flag"
      ],
      "metadata": {
        "id": "Gz9P3PPiypsi"
      },
      "execution_count": 63,
      "outputs": []
    },
    {
      "cell_type": "code",
      "source": [
        "df.points.value_counts()"
      ],
      "metadata": {
        "colab": {
          "base_uri": "https://localhost:8080/"
        },
        "id": "cjq1voERy3Hl",
        "outputId": "ee85b35e-9ed5-48c3-80cb-bc2060abec88"
      },
      "execution_count": 64,
      "outputs": [
        {
          "output_type": "execute_result",
          "data": {
            "text/plain": [
              "0.0    14232\n",
              "2.0     9683\n",
              "3.0     1782\n",
              "Name: points, dtype: int64"
            ]
          },
          "metadata": {},
          "execution_count": 64
        }
      ]
    },
    {
      "cell_type": "code",
      "source": [
        "df['shot_type'].value_counts()\n"
      ],
      "metadata": {
        "colab": {
          "base_uri": "https://localhost:8080/"
        },
        "id": "F5cMr5wxwbIS",
        "outputId": "44a3d07b-93ea-46a7-b0b1-014ce883ffd3"
      },
      "execution_count": 66,
      "outputs": [
        {
          "output_type": "execute_result",
          "data": {
            "text/plain": [
              "2    20285\n",
              "3     5412\n",
              "Name: shot_type, dtype: int64"
            ]
          },
          "metadata": {},
          "execution_count": 66
        }
      ]
    },
    {
      "cell_type": "code",
      "source": [
        "pd.DataFrame(df.groupby(by=['season', 'shot_type'])['points'].count())"
      ],
      "metadata": {
        "colab": {
          "base_uri": "https://localhost:8080/",
          "height": 1000
        },
        "id": "nUFRdYFzpJis",
        "outputId": "b7ccf0a0-54af-49d7-e1df-349871827312"
      },
      "execution_count": 68,
      "outputs": [
        {
          "output_type": "execute_result",
          "data": {
            "text/plain": [
              "                   points\n",
              "season  shot_type        \n",
              "1996-97 2             256\n",
              "        3             127\n",
              "1997-98 2             617\n",
              "        3             193\n",
              "1998-99 2             654\n",
              "        3             111\n",
              "1999-00 2            1135\n",
              "        3             177\n",
              "2000-01 2            1380\n",
              "        3             195\n",
              "2001-02 2            1547\n",
              "        3             161\n",
              "2002-03 2            1531\n",
              "        3             321\n",
              "2003-04 2            1105\n",
              "        3             266\n",
              "2004-05 2             793\n",
              "        3             334\n",
              "2005-06 2            1459\n",
              "        3             465\n",
              "2006-07 2            1230\n",
              "        3             349\n",
              "2007-08 2            1387\n",
              "        3             432\n",
              "2008-09 2            1479\n",
              "        3             372\n",
              "2009-10 2            1406\n",
              "        3             366\n",
              "2010-11 2            1191\n",
              "        3             330\n",
              "2011-12 2            1114\n",
              "        3             302\n",
              "2012-13 2             993\n",
              "        3             335\n",
              "2013-14 2              47\n",
              "        3              12\n",
              "2014-15 2             434\n",
              "        3             159\n",
              "2015-16 2             527\n",
              "        3             405"
            ],
            "text/html": [
              "\n",
              "  <div id=\"df-5fd6e408-1da7-4131-b2b7-92ba02627cd3\">\n",
              "    <div class=\"colab-df-container\">\n",
              "      <div>\n",
              "<style scoped>\n",
              "    .dataframe tbody tr th:only-of-type {\n",
              "        vertical-align: middle;\n",
              "    }\n",
              "\n",
              "    .dataframe tbody tr th {\n",
              "        vertical-align: top;\n",
              "    }\n",
              "\n",
              "    .dataframe thead th {\n",
              "        text-align: right;\n",
              "    }\n",
              "</style>\n",
              "<table border=\"1\" class=\"dataframe\">\n",
              "  <thead>\n",
              "    <tr style=\"text-align: right;\">\n",
              "      <th></th>\n",
              "      <th></th>\n",
              "      <th>points</th>\n",
              "    </tr>\n",
              "    <tr>\n",
              "      <th>season</th>\n",
              "      <th>shot_type</th>\n",
              "      <th></th>\n",
              "    </tr>\n",
              "  </thead>\n",
              "  <tbody>\n",
              "    <tr>\n",
              "      <th rowspan=\"2\" valign=\"top\">1996-97</th>\n",
              "      <th>2</th>\n",
              "      <td>256</td>\n",
              "    </tr>\n",
              "    <tr>\n",
              "      <th>3</th>\n",
              "      <td>127</td>\n",
              "    </tr>\n",
              "    <tr>\n",
              "      <th rowspan=\"2\" valign=\"top\">1997-98</th>\n",
              "      <th>2</th>\n",
              "      <td>617</td>\n",
              "    </tr>\n",
              "    <tr>\n",
              "      <th>3</th>\n",
              "      <td>193</td>\n",
              "    </tr>\n",
              "    <tr>\n",
              "      <th rowspan=\"2\" valign=\"top\">1998-99</th>\n",
              "      <th>2</th>\n",
              "      <td>654</td>\n",
              "    </tr>\n",
              "    <tr>\n",
              "      <th>3</th>\n",
              "      <td>111</td>\n",
              "    </tr>\n",
              "    <tr>\n",
              "      <th rowspan=\"2\" valign=\"top\">1999-00</th>\n",
              "      <th>2</th>\n",
              "      <td>1135</td>\n",
              "    </tr>\n",
              "    <tr>\n",
              "      <th>3</th>\n",
              "      <td>177</td>\n",
              "    </tr>\n",
              "    <tr>\n",
              "      <th rowspan=\"2\" valign=\"top\">2000-01</th>\n",
              "      <th>2</th>\n",
              "      <td>1380</td>\n",
              "    </tr>\n",
              "    <tr>\n",
              "      <th>3</th>\n",
              "      <td>195</td>\n",
              "    </tr>\n",
              "    <tr>\n",
              "      <th rowspan=\"2\" valign=\"top\">2001-02</th>\n",
              "      <th>2</th>\n",
              "      <td>1547</td>\n",
              "    </tr>\n",
              "    <tr>\n",
              "      <th>3</th>\n",
              "      <td>161</td>\n",
              "    </tr>\n",
              "    <tr>\n",
              "      <th rowspan=\"2\" valign=\"top\">2002-03</th>\n",
              "      <th>2</th>\n",
              "      <td>1531</td>\n",
              "    </tr>\n",
              "    <tr>\n",
              "      <th>3</th>\n",
              "      <td>321</td>\n",
              "    </tr>\n",
              "    <tr>\n",
              "      <th rowspan=\"2\" valign=\"top\">2003-04</th>\n",
              "      <th>2</th>\n",
              "      <td>1105</td>\n",
              "    </tr>\n",
              "    <tr>\n",
              "      <th>3</th>\n",
              "      <td>266</td>\n",
              "    </tr>\n",
              "    <tr>\n",
              "      <th rowspan=\"2\" valign=\"top\">2004-05</th>\n",
              "      <th>2</th>\n",
              "      <td>793</td>\n",
              "    </tr>\n",
              "    <tr>\n",
              "      <th>3</th>\n",
              "      <td>334</td>\n",
              "    </tr>\n",
              "    <tr>\n",
              "      <th rowspan=\"2\" valign=\"top\">2005-06</th>\n",
              "      <th>2</th>\n",
              "      <td>1459</td>\n",
              "    </tr>\n",
              "    <tr>\n",
              "      <th>3</th>\n",
              "      <td>465</td>\n",
              "    </tr>\n",
              "    <tr>\n",
              "      <th rowspan=\"2\" valign=\"top\">2006-07</th>\n",
              "      <th>2</th>\n",
              "      <td>1230</td>\n",
              "    </tr>\n",
              "    <tr>\n",
              "      <th>3</th>\n",
              "      <td>349</td>\n",
              "    </tr>\n",
              "    <tr>\n",
              "      <th rowspan=\"2\" valign=\"top\">2007-08</th>\n",
              "      <th>2</th>\n",
              "      <td>1387</td>\n",
              "    </tr>\n",
              "    <tr>\n",
              "      <th>3</th>\n",
              "      <td>432</td>\n",
              "    </tr>\n",
              "    <tr>\n",
              "      <th rowspan=\"2\" valign=\"top\">2008-09</th>\n",
              "      <th>2</th>\n",
              "      <td>1479</td>\n",
              "    </tr>\n",
              "    <tr>\n",
              "      <th>3</th>\n",
              "      <td>372</td>\n",
              "    </tr>\n",
              "    <tr>\n",
              "      <th rowspan=\"2\" valign=\"top\">2009-10</th>\n",
              "      <th>2</th>\n",
              "      <td>1406</td>\n",
              "    </tr>\n",
              "    <tr>\n",
              "      <th>3</th>\n",
              "      <td>366</td>\n",
              "    </tr>\n",
              "    <tr>\n",
              "      <th rowspan=\"2\" valign=\"top\">2010-11</th>\n",
              "      <th>2</th>\n",
              "      <td>1191</td>\n",
              "    </tr>\n",
              "    <tr>\n",
              "      <th>3</th>\n",
              "      <td>330</td>\n",
              "    </tr>\n",
              "    <tr>\n",
              "      <th rowspan=\"2\" valign=\"top\">2011-12</th>\n",
              "      <th>2</th>\n",
              "      <td>1114</td>\n",
              "    </tr>\n",
              "    <tr>\n",
              "      <th>3</th>\n",
              "      <td>302</td>\n",
              "    </tr>\n",
              "    <tr>\n",
              "      <th rowspan=\"2\" valign=\"top\">2012-13</th>\n",
              "      <th>2</th>\n",
              "      <td>993</td>\n",
              "    </tr>\n",
              "    <tr>\n",
              "      <th>3</th>\n",
              "      <td>335</td>\n",
              "    </tr>\n",
              "    <tr>\n",
              "      <th rowspan=\"2\" valign=\"top\">2013-14</th>\n",
              "      <th>2</th>\n",
              "      <td>47</td>\n",
              "    </tr>\n",
              "    <tr>\n",
              "      <th>3</th>\n",
              "      <td>12</td>\n",
              "    </tr>\n",
              "    <tr>\n",
              "      <th rowspan=\"2\" valign=\"top\">2014-15</th>\n",
              "      <th>2</th>\n",
              "      <td>434</td>\n",
              "    </tr>\n",
              "    <tr>\n",
              "      <th>3</th>\n",
              "      <td>159</td>\n",
              "    </tr>\n",
              "    <tr>\n",
              "      <th rowspan=\"2\" valign=\"top\">2015-16</th>\n",
              "      <th>2</th>\n",
              "      <td>527</td>\n",
              "    </tr>\n",
              "    <tr>\n",
              "      <th>3</th>\n",
              "      <td>405</td>\n",
              "    </tr>\n",
              "  </tbody>\n",
              "</table>\n",
              "</div>\n",
              "      <button class=\"colab-df-convert\" onclick=\"convertToInteractive('df-5fd6e408-1da7-4131-b2b7-92ba02627cd3')\"\n",
              "              title=\"Convert this dataframe to an interactive table.\"\n",
              "              style=\"display:none;\">\n",
              "        \n",
              "  <svg xmlns=\"http://www.w3.org/2000/svg\" height=\"24px\"viewBox=\"0 0 24 24\"\n",
              "       width=\"24px\">\n",
              "    <path d=\"M0 0h24v24H0V0z\" fill=\"none\"/>\n",
              "    <path d=\"M18.56 5.44l.94 2.06.94-2.06 2.06-.94-2.06-.94-.94-2.06-.94 2.06-2.06.94zm-11 1L8.5 8.5l.94-2.06 2.06-.94-2.06-.94L8.5 2.5l-.94 2.06-2.06.94zm10 10l.94 2.06.94-2.06 2.06-.94-2.06-.94-.94-2.06-.94 2.06-2.06.94z\"/><path d=\"M17.41 7.96l-1.37-1.37c-.4-.4-.92-.59-1.43-.59-.52 0-1.04.2-1.43.59L10.3 9.45l-7.72 7.72c-.78.78-.78 2.05 0 2.83L4 21.41c.39.39.9.59 1.41.59.51 0 1.02-.2 1.41-.59l7.78-7.78 2.81-2.81c.8-.78.8-2.07 0-2.86zM5.41 20L4 18.59l7.72-7.72 1.47 1.35L5.41 20z\"/>\n",
              "  </svg>\n",
              "      </button>\n",
              "      \n",
              "  <style>\n",
              "    .colab-df-container {\n",
              "      display:flex;\n",
              "      flex-wrap:wrap;\n",
              "      gap: 12px;\n",
              "    }\n",
              "\n",
              "    .colab-df-convert {\n",
              "      background-color: #E8F0FE;\n",
              "      border: none;\n",
              "      border-radius: 50%;\n",
              "      cursor: pointer;\n",
              "      display: none;\n",
              "      fill: #1967D2;\n",
              "      height: 32px;\n",
              "      padding: 0 0 0 0;\n",
              "      width: 32px;\n",
              "    }\n",
              "\n",
              "    .colab-df-convert:hover {\n",
              "      background-color: #E2EBFA;\n",
              "      box-shadow: 0px 1px 2px rgba(60, 64, 67, 0.3), 0px 1px 3px 1px rgba(60, 64, 67, 0.15);\n",
              "      fill: #174EA6;\n",
              "    }\n",
              "\n",
              "    [theme=dark] .colab-df-convert {\n",
              "      background-color: #3B4455;\n",
              "      fill: #D2E3FC;\n",
              "    }\n",
              "\n",
              "    [theme=dark] .colab-df-convert:hover {\n",
              "      background-color: #434B5C;\n",
              "      box-shadow: 0px 1px 3px 1px rgba(0, 0, 0, 0.15);\n",
              "      filter: drop-shadow(0px 1px 2px rgba(0, 0, 0, 0.3));\n",
              "      fill: #FFFFFF;\n",
              "    }\n",
              "  </style>\n",
              "\n",
              "      <script>\n",
              "        const buttonEl =\n",
              "          document.querySelector('#df-5fd6e408-1da7-4131-b2b7-92ba02627cd3 button.colab-df-convert');\n",
              "        buttonEl.style.display =\n",
              "          google.colab.kernel.accessAllowed ? 'block' : 'none';\n",
              "\n",
              "        async function convertToInteractive(key) {\n",
              "          const element = document.querySelector('#df-5fd6e408-1da7-4131-b2b7-92ba02627cd3');\n",
              "          const dataTable =\n",
              "            await google.colab.kernel.invokeFunction('convertToInteractive',\n",
              "                                                     [key], {});\n",
              "          if (!dataTable) return;\n",
              "\n",
              "          const docLinkHtml = 'Like what you see? Visit the ' +\n",
              "            '<a target=\"_blank\" href=https://colab.research.google.com/notebooks/data_table.ipynb>data table notebook</a>'\n",
              "            + ' to learn more about interactive tables.';\n",
              "          element.innerHTML = '';\n",
              "          dataTable['output_type'] = 'display_data';\n",
              "          await google.colab.output.renderOutput(dataTable, element);\n",
              "          const docLink = document.createElement('div');\n",
              "          docLink.innerHTML = docLinkHtml;\n",
              "          element.appendChild(docLink);\n",
              "        }\n",
              "      </script>\n",
              "    </div>\n",
              "  </div>\n",
              "  "
            ]
          },
          "metadata": {},
          "execution_count": 68
        }
      ]
    },
    {
      "cell_type": "markdown",
      "source": [
        "## 10. Faça dois gráficos: posição em quadra dos arremessos perdidos x posição em quadra dos arremessos acertados"
      ],
      "metadata": {
        "id": "pIqtu9FQqPfz"
      }
    },
    {
      "cell_type": "code",
      "source": [
        "import matplotlib.pyplot as plt\n",
        "import seaborn as sns"
      ],
      "metadata": {
        "id": "QMNBSsQ_qv1w"
      },
      "execution_count": 69,
      "outputs": []
    },
    {
      "cell_type": "code",
      "source": [
        "convert[['loc_x',\t'loc_y']]"
      ],
      "metadata": {
        "colab": {
          "base_uri": "https://localhost:8080/",
          "height": 424
        },
        "id": "qIU_t5F6pm8b",
        "outputId": "11a2f7d0-1a8f-415f-9718-56cccf9ba299"
      },
      "execution_count": 70,
      "outputs": [
        {
          "output_type": "execute_result",
          "data": {
            "text/plain": [
              "       loc_x  loc_y\n",
              "2       -101    135\n",
              "4          0      0\n",
              "6          0      0\n",
              "8        -65    108\n",
              "11       121    127\n",
              "...      ...    ...\n",
              "30674    117    216\n",
              "30676   -141      0\n",
              "30681    -18    261\n",
              "30688   -126     61\n",
              "30694   -134    166\n",
              "\n",
              "[11465 rows x 2 columns]"
            ],
            "text/html": [
              "\n",
              "  <div id=\"df-5a6d3f48-57bc-4e61-a7e0-fbb086348016\">\n",
              "    <div class=\"colab-df-container\">\n",
              "      <div>\n",
              "<style scoped>\n",
              "    .dataframe tbody tr th:only-of-type {\n",
              "        vertical-align: middle;\n",
              "    }\n",
              "\n",
              "    .dataframe tbody tr th {\n",
              "        vertical-align: top;\n",
              "    }\n",
              "\n",
              "    .dataframe thead th {\n",
              "        text-align: right;\n",
              "    }\n",
              "</style>\n",
              "<table border=\"1\" class=\"dataframe\">\n",
              "  <thead>\n",
              "    <tr style=\"text-align: right;\">\n",
              "      <th></th>\n",
              "      <th>loc_x</th>\n",
              "      <th>loc_y</th>\n",
              "    </tr>\n",
              "  </thead>\n",
              "  <tbody>\n",
              "    <tr>\n",
              "      <th>2</th>\n",
              "      <td>-101</td>\n",
              "      <td>135</td>\n",
              "    </tr>\n",
              "    <tr>\n",
              "      <th>4</th>\n",
              "      <td>0</td>\n",
              "      <td>0</td>\n",
              "    </tr>\n",
              "    <tr>\n",
              "      <th>6</th>\n",
              "      <td>0</td>\n",
              "      <td>0</td>\n",
              "    </tr>\n",
              "    <tr>\n",
              "      <th>8</th>\n",
              "      <td>-65</td>\n",
              "      <td>108</td>\n",
              "    </tr>\n",
              "    <tr>\n",
              "      <th>11</th>\n",
              "      <td>121</td>\n",
              "      <td>127</td>\n",
              "    </tr>\n",
              "    <tr>\n",
              "      <th>...</th>\n",
              "      <td>...</td>\n",
              "      <td>...</td>\n",
              "    </tr>\n",
              "    <tr>\n",
              "      <th>30674</th>\n",
              "      <td>117</td>\n",
              "      <td>216</td>\n",
              "    </tr>\n",
              "    <tr>\n",
              "      <th>30676</th>\n",
              "      <td>-141</td>\n",
              "      <td>0</td>\n",
              "    </tr>\n",
              "    <tr>\n",
              "      <th>30681</th>\n",
              "      <td>-18</td>\n",
              "      <td>261</td>\n",
              "    </tr>\n",
              "    <tr>\n",
              "      <th>30688</th>\n",
              "      <td>-126</td>\n",
              "      <td>61</td>\n",
              "    </tr>\n",
              "    <tr>\n",
              "      <th>30694</th>\n",
              "      <td>-134</td>\n",
              "      <td>166</td>\n",
              "    </tr>\n",
              "  </tbody>\n",
              "</table>\n",
              "<p>11465 rows × 2 columns</p>\n",
              "</div>\n",
              "      <button class=\"colab-df-convert\" onclick=\"convertToInteractive('df-5a6d3f48-57bc-4e61-a7e0-fbb086348016')\"\n",
              "              title=\"Convert this dataframe to an interactive table.\"\n",
              "              style=\"display:none;\">\n",
              "        \n",
              "  <svg xmlns=\"http://www.w3.org/2000/svg\" height=\"24px\"viewBox=\"0 0 24 24\"\n",
              "       width=\"24px\">\n",
              "    <path d=\"M0 0h24v24H0V0z\" fill=\"none\"/>\n",
              "    <path d=\"M18.56 5.44l.94 2.06.94-2.06 2.06-.94-2.06-.94-.94-2.06-.94 2.06-2.06.94zm-11 1L8.5 8.5l.94-2.06 2.06-.94-2.06-.94L8.5 2.5l-.94 2.06-2.06.94zm10 10l.94 2.06.94-2.06 2.06-.94-2.06-.94-.94-2.06-.94 2.06-2.06.94z\"/><path d=\"M17.41 7.96l-1.37-1.37c-.4-.4-.92-.59-1.43-.59-.52 0-1.04.2-1.43.59L10.3 9.45l-7.72 7.72c-.78.78-.78 2.05 0 2.83L4 21.41c.39.39.9.59 1.41.59.51 0 1.02-.2 1.41-.59l7.78-7.78 2.81-2.81c.8-.78.8-2.07 0-2.86zM5.41 20L4 18.59l7.72-7.72 1.47 1.35L5.41 20z\"/>\n",
              "  </svg>\n",
              "      </button>\n",
              "      \n",
              "  <style>\n",
              "    .colab-df-container {\n",
              "      display:flex;\n",
              "      flex-wrap:wrap;\n",
              "      gap: 12px;\n",
              "    }\n",
              "\n",
              "    .colab-df-convert {\n",
              "      background-color: #E8F0FE;\n",
              "      border: none;\n",
              "      border-radius: 50%;\n",
              "      cursor: pointer;\n",
              "      display: none;\n",
              "      fill: #1967D2;\n",
              "      height: 32px;\n",
              "      padding: 0 0 0 0;\n",
              "      width: 32px;\n",
              "    }\n",
              "\n",
              "    .colab-df-convert:hover {\n",
              "      background-color: #E2EBFA;\n",
              "      box-shadow: 0px 1px 2px rgba(60, 64, 67, 0.3), 0px 1px 3px 1px rgba(60, 64, 67, 0.15);\n",
              "      fill: #174EA6;\n",
              "    }\n",
              "\n",
              "    [theme=dark] .colab-df-convert {\n",
              "      background-color: #3B4455;\n",
              "      fill: #D2E3FC;\n",
              "    }\n",
              "\n",
              "    [theme=dark] .colab-df-convert:hover {\n",
              "      background-color: #434B5C;\n",
              "      box-shadow: 0px 1px 3px 1px rgba(0, 0, 0, 0.15);\n",
              "      filter: drop-shadow(0px 1px 2px rgba(0, 0, 0, 0.3));\n",
              "      fill: #FFFFFF;\n",
              "    }\n",
              "  </style>\n",
              "\n",
              "      <script>\n",
              "        const buttonEl =\n",
              "          document.querySelector('#df-5a6d3f48-57bc-4e61-a7e0-fbb086348016 button.colab-df-convert');\n",
              "        buttonEl.style.display =\n",
              "          google.colab.kernel.accessAllowed ? 'block' : 'none';\n",
              "\n",
              "        async function convertToInteractive(key) {\n",
              "          const element = document.querySelector('#df-5a6d3f48-57bc-4e61-a7e0-fbb086348016');\n",
              "          const dataTable =\n",
              "            await google.colab.kernel.invokeFunction('convertToInteractive',\n",
              "                                                     [key], {});\n",
              "          if (!dataTable) return;\n",
              "\n",
              "          const docLinkHtml = 'Like what you see? Visit the ' +\n",
              "            '<a target=\"_blank\" href=https://colab.research.google.com/notebooks/data_table.ipynb>data table notebook</a>'\n",
              "            + ' to learn more about interactive tables.';\n",
              "          element.innerHTML = '';\n",
              "          dataTable['output_type'] = 'display_data';\n",
              "          await google.colab.output.renderOutput(dataTable, element);\n",
              "          const docLink = document.createElement('div');\n",
              "          docLink.innerHTML = docLinkHtml;\n",
              "          element.appendChild(docLink);\n",
              "        }\n",
              "      </script>\n",
              "    </div>\n",
              "  </div>\n",
              "  "
            ]
          },
          "metadata": {},
          "execution_count": 70
        }
      ]
    },
    {
      "cell_type": "code",
      "source": [
        "no_convert[['loc_x',\t'loc_y']]"
      ],
      "metadata": {
        "colab": {
          "base_uri": "https://localhost:8080/",
          "height": 424
        },
        "id": "a4EWcZwfqn0R",
        "outputId": "419ef22d-eee7-4501-9665-a10b378d90b0"
      },
      "execution_count": 84,
      "outputs": [
        {
          "output_type": "execute_result",
          "data": {
            "text/plain": [
              "       loc_x  loc_y\n",
              "1       -157      0\n",
              "3        138    175\n",
              "5       -145    -11\n",
              "9        -33    125\n",
              "10       -94    238\n",
              "...      ...    ...\n",
              "30690   -113    100\n",
              "30691      0      0\n",
              "30692      1     48\n",
              "30695     31    267\n",
              "30696      1     72\n",
              "\n",
              "[14232 rows x 2 columns]"
            ],
            "text/html": [
              "\n",
              "  <div id=\"df-89918f93-6ace-4fc4-bcb3-b9323437fcac\">\n",
              "    <div class=\"colab-df-container\">\n",
              "      <div>\n",
              "<style scoped>\n",
              "    .dataframe tbody tr th:only-of-type {\n",
              "        vertical-align: middle;\n",
              "    }\n",
              "\n",
              "    .dataframe tbody tr th {\n",
              "        vertical-align: top;\n",
              "    }\n",
              "\n",
              "    .dataframe thead th {\n",
              "        text-align: right;\n",
              "    }\n",
              "</style>\n",
              "<table border=\"1\" class=\"dataframe\">\n",
              "  <thead>\n",
              "    <tr style=\"text-align: right;\">\n",
              "      <th></th>\n",
              "      <th>loc_x</th>\n",
              "      <th>loc_y</th>\n",
              "    </tr>\n",
              "  </thead>\n",
              "  <tbody>\n",
              "    <tr>\n",
              "      <th>1</th>\n",
              "      <td>-157</td>\n",
              "      <td>0</td>\n",
              "    </tr>\n",
              "    <tr>\n",
              "      <th>3</th>\n",
              "      <td>138</td>\n",
              "      <td>175</td>\n",
              "    </tr>\n",
              "    <tr>\n",
              "      <th>5</th>\n",
              "      <td>-145</td>\n",
              "      <td>-11</td>\n",
              "    </tr>\n",
              "    <tr>\n",
              "      <th>9</th>\n",
              "      <td>-33</td>\n",
              "      <td>125</td>\n",
              "    </tr>\n",
              "    <tr>\n",
              "      <th>10</th>\n",
              "      <td>-94</td>\n",
              "      <td>238</td>\n",
              "    </tr>\n",
              "    <tr>\n",
              "      <th>...</th>\n",
              "      <td>...</td>\n",
              "      <td>...</td>\n",
              "    </tr>\n",
              "    <tr>\n",
              "      <th>30690</th>\n",
              "      <td>-113</td>\n",
              "      <td>100</td>\n",
              "    </tr>\n",
              "    <tr>\n",
              "      <th>30691</th>\n",
              "      <td>0</td>\n",
              "      <td>0</td>\n",
              "    </tr>\n",
              "    <tr>\n",
              "      <th>30692</th>\n",
              "      <td>1</td>\n",
              "      <td>48</td>\n",
              "    </tr>\n",
              "    <tr>\n",
              "      <th>30695</th>\n",
              "      <td>31</td>\n",
              "      <td>267</td>\n",
              "    </tr>\n",
              "    <tr>\n",
              "      <th>30696</th>\n",
              "      <td>1</td>\n",
              "      <td>72</td>\n",
              "    </tr>\n",
              "  </tbody>\n",
              "</table>\n",
              "<p>14232 rows × 2 columns</p>\n",
              "</div>\n",
              "      <button class=\"colab-df-convert\" onclick=\"convertToInteractive('df-89918f93-6ace-4fc4-bcb3-b9323437fcac')\"\n",
              "              title=\"Convert this dataframe to an interactive table.\"\n",
              "              style=\"display:none;\">\n",
              "        \n",
              "  <svg xmlns=\"http://www.w3.org/2000/svg\" height=\"24px\"viewBox=\"0 0 24 24\"\n",
              "       width=\"24px\">\n",
              "    <path d=\"M0 0h24v24H0V0z\" fill=\"none\"/>\n",
              "    <path d=\"M18.56 5.44l.94 2.06.94-2.06 2.06-.94-2.06-.94-.94-2.06-.94 2.06-2.06.94zm-11 1L8.5 8.5l.94-2.06 2.06-.94-2.06-.94L8.5 2.5l-.94 2.06-2.06.94zm10 10l.94 2.06.94-2.06 2.06-.94-2.06-.94-.94-2.06-.94 2.06-2.06.94z\"/><path d=\"M17.41 7.96l-1.37-1.37c-.4-.4-.92-.59-1.43-.59-.52 0-1.04.2-1.43.59L10.3 9.45l-7.72 7.72c-.78.78-.78 2.05 0 2.83L4 21.41c.39.39.9.59 1.41.59.51 0 1.02-.2 1.41-.59l7.78-7.78 2.81-2.81c.8-.78.8-2.07 0-2.86zM5.41 20L4 18.59l7.72-7.72 1.47 1.35L5.41 20z\"/>\n",
              "  </svg>\n",
              "      </button>\n",
              "      \n",
              "  <style>\n",
              "    .colab-df-container {\n",
              "      display:flex;\n",
              "      flex-wrap:wrap;\n",
              "      gap: 12px;\n",
              "    }\n",
              "\n",
              "    .colab-df-convert {\n",
              "      background-color: #E8F0FE;\n",
              "      border: none;\n",
              "      border-radius: 50%;\n",
              "      cursor: pointer;\n",
              "      display: none;\n",
              "      fill: #1967D2;\n",
              "      height: 32px;\n",
              "      padding: 0 0 0 0;\n",
              "      width: 32px;\n",
              "    }\n",
              "\n",
              "    .colab-df-convert:hover {\n",
              "      background-color: #E2EBFA;\n",
              "      box-shadow: 0px 1px 2px rgba(60, 64, 67, 0.3), 0px 1px 3px 1px rgba(60, 64, 67, 0.15);\n",
              "      fill: #174EA6;\n",
              "    }\n",
              "\n",
              "    [theme=dark] .colab-df-convert {\n",
              "      background-color: #3B4455;\n",
              "      fill: #D2E3FC;\n",
              "    }\n",
              "\n",
              "    [theme=dark] .colab-df-convert:hover {\n",
              "      background-color: #434B5C;\n",
              "      box-shadow: 0px 1px 3px 1px rgba(0, 0, 0, 0.15);\n",
              "      filter: drop-shadow(0px 1px 2px rgba(0, 0, 0, 0.3));\n",
              "      fill: #FFFFFF;\n",
              "    }\n",
              "  </style>\n",
              "\n",
              "      <script>\n",
              "        const buttonEl =\n",
              "          document.querySelector('#df-89918f93-6ace-4fc4-bcb3-b9323437fcac button.colab-df-convert');\n",
              "        buttonEl.style.display =\n",
              "          google.colab.kernel.accessAllowed ? 'block' : 'none';\n",
              "\n",
              "        async function convertToInteractive(key) {\n",
              "          const element = document.querySelector('#df-89918f93-6ace-4fc4-bcb3-b9323437fcac');\n",
              "          const dataTable =\n",
              "            await google.colab.kernel.invokeFunction('convertToInteractive',\n",
              "                                                     [key], {});\n",
              "          if (!dataTable) return;\n",
              "\n",
              "          const docLinkHtml = 'Like what you see? Visit the ' +\n",
              "            '<a target=\"_blank\" href=https://colab.research.google.com/notebooks/data_table.ipynb>data table notebook</a>'\n",
              "            + ' to learn more about interactive tables.';\n",
              "          element.innerHTML = '';\n",
              "          dataTable['output_type'] = 'display_data';\n",
              "          await google.colab.output.renderOutput(dataTable, element);\n",
              "          const docLink = document.createElement('div');\n",
              "          docLink.innerHTML = docLinkHtml;\n",
              "          element.appendChild(docLink);\n",
              "        }\n",
              "      </script>\n",
              "    </div>\n",
              "  </div>\n",
              "  "
            ]
          },
          "metadata": {},
          "execution_count": 84
        }
      ]
    },
    {
      "cell_type": "code",
      "source": [
        "fig, ax = plt.subplots(1, 2, figsize=(18, 12), sharey=True)\n",
        "ax1 = sns.scatterplot(x='loc_x', y='loc_y', data=convert, color='g', s=17.5, ax=ax[0])\n",
        "ax1.set_title('Arremessos convertidos')\n",
        "\n",
        "ax2 = sns.scatterplot(x='loc_x', y='loc_y', data=no_convert, color='r', s=17.5, ax=ax[1])\n",
        "ax2.set_title('Arremessos errados')"
      ],
      "metadata": {
        "colab": {
          "base_uri": "https://localhost:8080/",
          "height": 749
        },
        "id": "9CmHdjaosKxG",
        "outputId": "8eddc16e-622f-4831-eacc-e578465c4276"
      },
      "execution_count": 92,
      "outputs": [
        {
          "output_type": "execute_result",
          "data": {
            "text/plain": [
              "Text(0.5, 1.0, 'Arremessos errados')"
            ]
          },
          "metadata": {},
          "execution_count": 92
        },
        {
          "output_type": "display_data",
          "data": {
            "text/plain": [
              "<Figure size 1296x864 with 2 Axes>"
            ],
            "image/png": "[encoded data removed]"
          },
          "metadata": {
            "needs_background": "light"
          }
        }
      ]
    },
    {
      "cell_type": "code",
      "source": [
        ""
      ],
      "metadata": {
        "id": "YmmZZ7T523LS"
      },
      "execution_count": null,
      "outputs": []
    }
  ]
}