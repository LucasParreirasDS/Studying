{
  "nbformat": 4,
  "nbformat_minor": 0,
  "metadata": {
    "colab": {
      "name": "Lista1_INFNET.ipynb",
      "provenance": [],
      "authorship_tag": "ABX9TyMKbWao56uMFMBcIZQyuxQe",
      "include_colab_link": true
    },
    "kernelspec": {
      "name": "python3",
      "display_name": "Python 3"
    },
    "language_info": {
      "name": "python"
    }
  },
  "cells": [
    {
      "cell_type": "markdown",
      "metadata": {
        "id": "view-in-github",
        "colab_type": "text"
      },
      "source": [
        "<a href=\"https://colab.research.google.com/github/LucasParreirasDS/Studying/blob/main/Lista1_INFNET.ipynb\" target=\"_parent\"><img src=\"https://colab.research.google.com/assets/colab-badge.svg\" alt=\"Open In Colab\"/></a>"
      ]
    },
    {
      "cell_type": "markdown",
      "source": [
        "# Lista de Exercicios | Bootcamp2022/Monitoria-Lista01.pdf\n"
      ],
      "metadata": {
        "id": "7s94eVKcXYnp"
      }
    },
    {
      "cell_type": "markdown",
      "source": [
        "## 1. Imprima a tabuada do 1 ao 10"
      ],
      "metadata": {
        "id": "oAccvdpKXqFD"
      }
    },
    {
      "cell_type": "code",
      "source": [
        "a = 1\n",
        "  \n",
        "for v in range(1, 11):\n",
        "  while a < 11:\n",
        "    print(f'{v}x{a} = {a*v}')\n",
        "    a += 1\n",
        "  print('')\n",
        "  a=1"
      ],
      "metadata": {
        "colab": {
          "base_uri": "https://localhost:8080/"
        },
        "id": "zkCFx1YlXzu6",
        "outputId": "911c0108-a5c0-4155-b178-58a5aab5427c"
      },
      "execution_count": 6,
      "outputs": [
        {
          "output_type": "stream",
          "name": "stdout",
          "text": [
            "1x1 = 1\n",
            "1x2 = 2\n",
            "1x3 = 3\n",
            "1x4 = 4\n",
            "1x5 = 5\n",
            "1x6 = 6\n",
            "1x7 = 7\n",
            "1x8 = 8\n",
            "1x9 = 9\n",
            "1x10 = 10\n",
            "\n",
            "2x1 = 2\n",
            "2x2 = 4\n",
            "2x3 = 6\n",
            "2x4 = 8\n",
            "2x5 = 10\n",
            "2x6 = 12\n",
            "2x7 = 14\n",
            "2x8 = 16\n",
            "2x9 = 18\n",
            "2x10 = 20\n",
            "\n",
            "3x1 = 3\n",
            "3x2 = 6\n",
            "3x3 = 9\n",
            "3x4 = 12\n",
            "3x5 = 15\n",
            "3x6 = 18\n",
            "3x7 = 21\n",
            "3x8 = 24\n",
            "3x9 = 27\n",
            "3x10 = 30\n",
            "\n",
            "4x1 = 4\n",
            "4x2 = 8\n",
            "4x3 = 12\n",
            "4x4 = 16\n",
            "4x5 = 20\n",
            "4x6 = 24\n",
            "4x7 = 28\n",
            "4x8 = 32\n",
            "4x9 = 36\n",
            "4x10 = 40\n",
            "\n",
            "5x1 = 5\n",
            "5x2 = 10\n",
            "5x3 = 15\n",
            "5x4 = 20\n",
            "5x5 = 25\n",
            "5x6 = 30\n",
            "5x7 = 35\n",
            "5x8 = 40\n",
            "5x9 = 45\n",
            "5x10 = 50\n",
            "\n",
            "6x1 = 6\n",
            "6x2 = 12\n",
            "6x3 = 18\n",
            "6x4 = 24\n",
            "6x5 = 30\n",
            "6x6 = 36\n",
            "6x7 = 42\n",
            "6x8 = 48\n",
            "6x9 = 54\n",
            "6x10 = 60\n",
            "\n",
            "7x1 = 7\n",
            "7x2 = 14\n",
            "7x3 = 21\n",
            "7x4 = 28\n",
            "7x5 = 35\n",
            "7x6 = 42\n",
            "7x7 = 49\n",
            "7x8 = 56\n",
            "7x9 = 63\n",
            "7x10 = 70\n",
            "\n",
            "8x1 = 8\n",
            "8x2 = 16\n",
            "8x3 = 24\n",
            "8x4 = 32\n",
            "8x5 = 40\n",
            "8x6 = 48\n",
            "8x7 = 56\n",
            "8x8 = 64\n",
            "8x9 = 72\n",
            "8x10 = 80\n",
            "\n",
            "9x1 = 9\n",
            "9x2 = 18\n",
            "9x3 = 27\n",
            "9x4 = 36\n",
            "9x5 = 45\n",
            "9x6 = 54\n",
            "9x7 = 63\n",
            "9x8 = 72\n",
            "9x9 = 81\n",
            "9x10 = 90\n",
            "\n",
            "10x1 = 10\n",
            "10x2 = 20\n",
            "10x3 = 30\n",
            "10x4 = 40\n",
            "10x5 = 50\n",
            "10x6 = 60\n",
            "10x7 = 70\n",
            "10x8 = 80\n",
            "10x9 = 90\n",
            "10x10 = 100\n",
            "\n"
          ]
        }
      ]
    },
    {
      "cell_type": "markdown",
      "source": [
        "## 2. Considerando os números inteiros de 1 a 100, escreva um código que imprima apenas os números divisíveis por 3."
      ],
      "metadata": {
        "id": "eoWKFVsBZmj3"
      }
    },
    {
      "cell_type": "code",
      "source": [
        "for x in range(1, 101):\n",
        "  if x % 3 == 0:\n",
        "    print(x)\n",
        "  "
      ],
      "metadata": {
        "colab": {
          "base_uri": "https://localhost:8080/"
        },
        "id": "TCEzKsf4Z6QU",
        "outputId": "3f903124-eb52-4e60-ad73-a71c817d96ae"
      },
      "execution_count": 11,
      "outputs": [
        {
          "output_type": "stream",
          "name": "stdout",
          "text": [
            "3\n",
            "6\n",
            "9\n",
            "12\n",
            "15\n",
            "18\n",
            "21\n",
            "24\n",
            "27\n",
            "30\n",
            "33\n",
            "36\n",
            "39\n",
            "42\n",
            "45\n",
            "48\n",
            "51\n",
            "54\n",
            "57\n",
            "60\n",
            "63\n",
            "66\n",
            "69\n",
            "72\n",
            "75\n",
            "78\n",
            "81\n",
            "84\n",
            "87\n",
            "90\n",
            "93\n",
            "96\n",
            "99\n"
          ]
        }
      ]
    },
    {
      "cell_type": "markdown",
      "source": [
        "## 3. Imprima os seguintes números na forma abaixo:\n",
        "###1\n",
        "###2 2\n",
        "###3 3 3\n",
        "###4 4 4 4\n",
        "###5 5 5 5 5"
      ],
      "metadata": {
        "id": "sVrutgCtaMzV"
      }
    },
    {
      "cell_type": "code",
      "source": [
        "for i in range(1, 6):\n",
        "  print(i * (str(i) + ' '))"
      ],
      "metadata": {
        "colab": {
          "base_uri": "https://localhost:8080/"
        },
        "id": "Ex6XHeF0acA4",
        "outputId": "bb3b742c-f7da-4898-a07c-b26ff1e57a6f"
      },
      "execution_count": 13,
      "outputs": [
        {
          "output_type": "stream",
          "name": "stdout",
          "text": [
            "1 \n",
            "2 2 \n",
            "3 3 3 \n",
            "4 4 4 4 \n",
            "5 5 5 5 5 \n"
          ]
        }
      ]
    },
    {
      "cell_type": "markdown",
      "source": [
        "## 4. Dadas as duas listas:\n",
        "###Lista 1 : [0, 4, 17, 8, 25, 6, 3, 99, 62, 7, 30, 71,]\n",
        "###Lista 2 : [10, 11, 27, 18, 5, 62, 3, 94, 2, 7]\n",
        "###Crie uma nova lista que contenha apenas números ímpares da primeira lista e números pares da segunda lista. "
      ],
      "metadata": {
        "id": "4SSDZRLZbP9L"
      }
    },
    {
      "cell_type": "code",
      "source": [
        "list1 = [0, 4, 17, 8, 25, 6, 3, 99, 62, 7, 30, 71]\n",
        "list2 = [10, 11, 27, 18, 5, 62, 3, 94, 2, 7]\n"
      ],
      "metadata": {
        "id": "0_Haj-t9bT8V"
      },
      "execution_count": 16,
      "outputs": []
    },
    {
      "cell_type": "code",
      "source": [
        "listX = list()\n",
        "\n",
        "for x in list1:\n",
        "  if x % 2 == 1:\n",
        "    listX.append(x)\n",
        "\n",
        "for x in list2:\n",
        "  if x % 2 == 0:\n",
        "    listX.append(x)\n",
        "\n",
        "listX"
      ],
      "metadata": {
        "colab": {
          "base_uri": "https://localhost:8080/"
        },
        "id": "tW07NU8HbnbY",
        "outputId": "a44df90b-7c2a-4981-aa4d-ade3d824eb0c"
      },
      "execution_count": 19,
      "outputs": [
        {
          "output_type": "execute_result",
          "data": {
            "text/plain": [
              "[17, 25, 3, 99, 7, 71, 10, 18, 62, 94, 2]"
            ]
          },
          "metadata": {},
          "execution_count": 19
        }
      ]
    },
    {
      "cell_type": "markdown",
      "source": [
        "## 5. Dados dois números inteiros, escreva um código que:\n",
        "####a) Retorne com o produto dos números. \n",
        "####b) Se o produto for maior que 1000, retorne a soma. \n",
        "####c) Execute a tarefa acima para duas listas de números. \n",
        "####d) Execute as tarefas acima em uma função"
      ],
      "metadata": {
        "id": "tlAh7VvKccsP"
      }
    },
    {
      "cell_type": "code",
      "source": [
        "# Letra A\n",
        "a = int(input('Digite o 1º número: '))\n",
        "b = int(input('Digite o 2º número: '))\n",
        "\n",
        "print(f'O produto é {a*b}')"
      ],
      "metadata": {
        "colab": {
          "base_uri": "https://localhost:8080/"
        },
        "id": "ZPVXnG6cdPP-",
        "outputId": "463d5cac-dc77-4be7-8693-ad052861eb25"
      },
      "execution_count": 23,
      "outputs": [
        {
          "output_type": "stream",
          "name": "stdout",
          "text": [
            "Digite o 1º número: 5\n",
            "Digite o 2º número: 15\n",
            "O produto é 75\n"
          ]
        }
      ]
    },
    {
      "cell_type": "code",
      "source": [
        "# Letra B\n",
        "\n",
        "a = int(input('Digite o 1º número: '))\n",
        "b = int(input('Digite o 2º número: '))\n",
        "\n",
        "if a*b > 1000:\n",
        "  print(f'A soma é {a+b}')\n",
        "else:\n",
        "  print('O produto é menor que 1000')"
      ],
      "metadata": {
        "colab": {
          "base_uri": "https://localhost:8080/"
        },
        "id": "OGSrJdbPhjPC",
        "outputId": "0a016305-dbb9-43df-c7c4-b39b5ae103af"
      },
      "execution_count": 26,
      "outputs": [
        {
          "output_type": "stream",
          "name": "stdout",
          "text": [
            "Digite o 1º número: 100\n",
            "Digite o 2º número: 256325\n",
            "A soma é 256425\n"
          ]
        }
      ]
    },
    {
      "cell_type": "code",
      "source": [
        "lists = [[], []]\n",
        "lists[0].append(1)\n",
        "lists[1].append(2)\n",
        "lists"
      ],
      "metadata": {
        "colab": {
          "base_uri": "https://localhost:8080/"
        },
        "id": "lqHU2E72mOUd",
        "outputId": "58e143f5-a3b1-4cad-9155-b5d87a5d2ec4"
      },
      "execution_count": 33,
      "outputs": [
        {
          "output_type": "execute_result",
          "data": {
            "text/plain": [
              "[[1], [2]]"
            ]
          },
          "metadata": {},
          "execution_count": 33
        }
      ]
    },
    {
      "cell_type": "code",
      "source": [
        "# Letra C\n",
        "'''\n",
        "    Para fazer o exercício levei em consideração o seguinte:\n",
        "- As duas listas precisam ser do mesmo tamanho\n",
        "- O produto a ser maior que 1000 é entre elementos de mesmo índice\n",
        "- A saída será uma nova lista. Nas iterações em que o produto for menor que 1000, será colocado um 'X' para sinalizar que o soma não foi calculada.\n",
        "'''\n",
        "lists = [[], []]\n",
        "\n",
        "n = int(input('Quantos elementos terá cada lista? '))\n",
        "y = 0\n",
        "\n",
        "while y < 2:\n",
        "  for i in range(1, n+1):\n",
        "    a = int(input(f'Lista {y+1} - {i}º elemento: '))\n",
        "    lists[y].append(a)\n",
        "  y = y+1\n",
        "  print('-'*10)\n",
        "\n",
        "result_list  = []\n",
        "\n",
        "for x in range(n):\n",
        "  b = lists[0][x]\n",
        "  c = lists[1][x]\n",
        "  if b*c  > 1000:\n",
        "    result_list.append(b+c)\n",
        "  else:\n",
        "    result_list.append('X')\n",
        "print(result_list)\n"
      ],
      "metadata": {
        "colab": {
          "base_uri": "https://localhost:8080/"
        },
        "id": "n1rDnoceiFYc",
        "outputId": "78ae4920-f239-4006-a2f8-a688c2a63207"
      },
      "execution_count": 58,
      "outputs": [
        {
          "output_type": "stream",
          "name": "stdout",
          "text": [
            "Quantos elementos terá cada lista? 1\n",
            "Lista 1 - 1º elemento: 2\n",
            "----------\n",
            "Lista 2 - 1º elemento: 2\n",
            "----------\n",
            "['X']\n"
          ]
        }
      ]
    },
    {
      "cell_type": "code",
      "source": [
        "# Letra D\n",
        "def exercise5(n=1):\n",
        "  '''\n",
        "  n: Número de elementos das listas. Por default, a função vai calcular para apenas 2 números (2 listas com 1 número cada)\n",
        "  '''\n",
        "  lists = [[], []]\n",
        "\n",
        "  y = 0\n",
        "\n",
        "  while y < 2:\n",
        "    for i in range(1, n+1):\n",
        "      a = int(input(f'Lista {y+1} - {i}º elemento: '))\n",
        "      lists[y].append(a)\n",
        "    y = y+1\n",
        "    print('-'*10)\n",
        "\n",
        "  result_list  = []\n",
        "\n",
        "  for x in range(n):\n",
        "    b = lists[0][x]\n",
        "    c = lists[1][x]\n",
        "    if b*c  > 1000:\n",
        "      result_list.append(b+c)\n",
        "    else:\n",
        "      result_list.append('X')\n",
        "  print(result_list)\n"
      ],
      "metadata": {
        "id": "MKBRgAGncxCK"
      },
      "execution_count": 63,
      "outputs": []
    },
    {
      "cell_type": "code",
      "source": [
        "exercise5(4)"
      ],
      "metadata": {
        "colab": {
          "base_uri": "https://localhost:8080/"
        },
        "id": "X7D2Ab-8clGq",
        "outputId": "376dcd9f-2af4-430b-e1fd-dae5cf14f855"
      },
      "execution_count": 65,
      "outputs": [
        {
          "output_type": "stream",
          "name": "stdout",
          "text": [
            "Lista 1 - 1º elemento: 5\n",
            "Lista 1 - 2º elemento: 25\n",
            "Lista 1 - 3º elemento: 85\n",
            "Lista 1 - 4º elemento: 45\n",
            "----------\n",
            "Lista 2 - 1º elemento: 1\n",
            "Lista 2 - 2º elemento: 54\n",
            "Lista 2 - 3º elemento: 85\n",
            "Lista 2 - 4º elemento: 42\n",
            "----------\n",
            "['X', 79, 170, 87]\n"
          ]
        }
      ]
    }
  ]
}