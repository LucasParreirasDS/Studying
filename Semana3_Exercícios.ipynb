{
 "cells": [
  {
   "cell_type": "markdown",
   "metadata": {
    "colab_type": "text",
    "id": "view-in-github"
   },
   "source": [
    "<a href=\"https://colab.research.google.com/github/CharlesPrado23/Notebooks/blob/main/Semana3_Exerc%C3%ADcios.ipynb\" target=\"_parent\"><img src=\"https://colab.research.google.com/assets/colab-badge.svg\" alt=\"Open In Colab\"/></a>"
   ]
  },
  {
   "cell_type": "markdown",
   "metadata": {
    "id": "VASoC4nNmAI9"
   },
   "source": [
    "## Semana 3 \n",
    "## Exercícios (FOR, IF, WHILE) "
   ]
  },
  {
   "cell_type": "markdown",
   "metadata": {
    "id": "wqFIo-c2mOYV"
   },
   "source": [
    "1) Dado a lista, abaixo, de temperaturas da cidade de Boulder em Fahrenheit (F):\n",
    "\n",
    " 1.1) Crie uma lista convertendo para Celsius (C). Para converter use a fórmula C = (F-32)*(5/9); Print os valores na tela. \n",
    " \n",
    " 1.2) Crie uma função que receba a lista de temperaturas em Fahrenheit e retorna uma lista em graus Celsius. Print a lista na tela. \n",
    "\n",
    " 1.3) **(Desafio)** Generalize a função criada em 1.2 usando *args para que a função receba uma lista de tamanho variável.\n",
    " \n",
    "\n",
    " F = [47,49,57,64,72,83,89,87,79,67,55,47]; (Temperaturas em F da cidade de Boulder)"
   ]
  },
  {
   "cell_type": "code",
   "execution_count": 2,
   "metadata": {
    "id": "FV8HxHPN8sbU"
   },
   "outputs": [],
   "source": [
    "F = [47,49,57,64,72,83,89,87,79,67,55,47]"
   ]
  },
  {
   "cell_type": "code",
   "execution_count": 8,
   "metadata": {
    "id": "ZJuFhZsE8u0S"
   },
   "outputs": [
    {
     "data": {
      "text/plain": [
       "[8.333333333333334,\n",
       " 9.444444444444445,\n",
       " 13.88888888888889,\n",
       " 17.77777777777778,\n",
       " 22.22222222222222,\n",
       " 28.333333333333336,\n",
       " 31.666666666666668,\n",
       " 30.555555555555557,\n",
       " 26.11111111111111,\n",
       " 19.444444444444446,\n",
       " 12.777777777777779,\n",
       " 8.333333333333334]"
      ]
     },
     "execution_count": 8,
     "metadata": {},
     "output_type": "execute_result"
    }
   ],
   "source": [
    "c = []\n",
    "for f in F:\n",
    "    celsius = ((f-32)*(5/9))\n",
    "    c.append(celsius)\n",
    "c"
   ]
  },
  {
   "cell_type": "markdown",
   "metadata": {
    "id": "ClQPuqarsW9_"
   },
   "source": [
    "2)Passe por todos os números até 99 (começando em 1). Imprima 'fizz' para cada número que é divisível por 7, imprima 'buzz' para cada número divisível por 5 e imprima 'fizzbuzz' para cada número divisível por 7 e 5! Se o número não for divisível por 7 ou 5, imprima um travessão (‘-‘)! \n",
    "\n",
    " Para descubrir se um número x é divisível por y use operador (%): \n",
    "\n",
    "    x % y retorna True se x é divísel por y, False se não for. \n",
    "\n",
    "Dica : use  FOR , IF, ELIF, ELSE \n",
    "   "
   ]
  },
  {
   "cell_type": "code",
   "execution_count": 19,
   "metadata": {},
   "outputs": [
    {
     "name": "stdout",
     "output_type": "stream",
     "text": [
      "1: -\n",
      "2: -\n",
      "3: -\n",
      "4: -\n",
      "5: buzz\n",
      "6: -\n",
      "7: fizz\n",
      "8: -\n",
      "9: -\n",
      "10: buzz\n",
      "11: -\n",
      "12: -\n",
      "13: -\n",
      "14: fizz\n",
      "15: buzz\n",
      "16: -\n",
      "17: -\n",
      "18: -\n",
      "19: -\n",
      "20: buzz\n",
      "21: fizz\n",
      "22: -\n",
      "23: -\n",
      "24: -\n",
      "25: buzz\n",
      "26: -\n",
      "27: -\n",
      "28: fizz\n",
      "29: -\n",
      "30: buzz\n",
      "31: -\n",
      "32: -\n",
      "33: -\n",
      "34: -\n",
      "35: fizzbuzz\n",
      "36: -\n",
      "37: -\n",
      "38: -\n",
      "39: -\n",
      "40: buzz\n",
      "41: -\n",
      "42: fizz\n",
      "43: -\n",
      "44: -\n",
      "45: buzz\n",
      "46: -\n",
      "47: -\n",
      "48: -\n",
      "49: fizz\n",
      "50: buzz\n",
      "51: -\n",
      "52: -\n",
      "53: -\n",
      "54: -\n",
      "55: buzz\n",
      "56: fizz\n",
      "57: -\n",
      "58: -\n",
      "59: -\n",
      "60: buzz\n",
      "61: -\n",
      "62: -\n",
      "63: fizz\n",
      "64: -\n",
      "65: buzz\n",
      "66: -\n",
      "67: -\n",
      "68: -\n",
      "69: -\n",
      "70: fizzbuzz\n",
      "71: -\n",
      "72: -\n",
      "73: -\n",
      "74: -\n",
      "75: buzz\n",
      "76: -\n",
      "77: fizz\n",
      "78: -\n",
      "79: -\n",
      "80: buzz\n",
      "81: -\n",
      "82: -\n",
      "83: -\n",
      "84: fizz\n",
      "85: buzz\n",
      "86: -\n",
      "87: -\n",
      "88: -\n",
      "89: -\n",
      "90: buzz\n",
      "91: fizz\n",
      "92: -\n",
      "93: -\n",
      "94: -\n",
      "95: buzz\n",
      "96: -\n",
      "97: -\n",
      "98: fizz\n",
      "99: -\n"
     ]
    }
   ],
   "source": [
    "for x in range(1,100):\n",
    "    if x % 7 == 0:\n",
    "        if x % 5 == 0:\n",
    "            print(str(x) +': fizzbuzz')\n",
    "        else:\n",
    "            print(str(x) +': fizz')\n",
    "    elif x % 5 == 0:\n",
    "        print(str(x) +': buzz')\n",
    "    else:\n",
    "        print(str(x) + ': -')\n",
    "        \n",
    "        \n",
    "        \n",
    "        "
   ]
  },
  {
   "cell_type": "markdown",
   "metadata": {
    "id": "pE2jEaxFnsJ8"
   },
   "source": [
    "3) Os filmes/séries podem ser classificados conforme o seu genero (ação,comédia, drama, terror etc). Considerando as classificações abaixo: \n",
    "\n",
    "   a) Ação = Jumanji, Projeto Gemini,The old guard,WandaVision.\n",
    "\n",
    "   b) Comédia = Jumanji,How I Met Your Mother,Friends, Amigos para sempre.\n",
    "\n",
    "   c)  Drama = Amigos para sempre, After,Game of Thrones, WandaVision.\n",
    "\n",
    " Tarefas: \n",
    "\n",
    "   3.1 - Cria uma lista de listas para representar cada um dos conjuntos acima. \n",
    "\n",
    "   3.2 - Usando a lista criada em 3.1, escreva um programa que \"print\" na tela a quantidade de caracteres de cada título.    "
   ]
  },
  {
   "cell_type": "code",
   "execution_count": 24,
   "metadata": {
    "scrolled": true
   },
   "outputs": [
    {
     "data": {
      "text/plain": [
       "[['Jumanji', 'Projeto Gemini', 'The old guard', 'WandaVision'],\n",
       " ['Jumanji', 'How I Met Your Mother', 'Friends', 'Amigos para sempre'],\n",
       " ['Amigos para sempre', 'After', 'Game of Thrones', 'WandaVision']]"
      ]
     },
     "execution_count": 24,
     "metadata": {},
     "output_type": "execute_result"
    }
   ],
   "source": [
    "# 3.1\n",
    "genres = [['Jumanji', 'Projeto Gemini','The old guard','WandaVision'],\n",
    "          ['Jumanji','How I Met Your Mother','Friends', 'Amigos para sempre'],\n",
    "          ['Amigos para sempre', 'After','Game of Thrones', 'WandaVision'],\n",
    "         ]\n",
    "genres"
   ]
  },
  {
   "cell_type": "code",
   "execution_count": 31,
   "metadata": {},
   "outputs": [
    {
     "name": "stdout",
     "output_type": "stream",
     "text": [
      "Jumanji has 7 characters\n",
      "Projeto Gemini has 14 characters\n",
      "The old guard has 13 characters\n",
      "WandaVision has 11 characters\n",
      "Jumanji has 7 characters\n",
      "How I Met Your Mother has 21 characters\n",
      "Friends has 7 characters\n",
      "Amigos para sempre has 18 characters\n",
      "Amigos para sempre has 18 characters\n",
      "After has 5 characters\n",
      "Game of Thrones has 15 characters\n",
      "WandaVision has 11 characters\n"
     ]
    },
    {
     "data": {
      "text/plain": [
       "11"
      ]
     },
     "execution_count": 31,
     "metadata": {},
     "output_type": "execute_result"
    }
   ],
   "source": [
    "# 3.2\n",
    "for lists in genres:\n",
    "    for word in lists:\n",
    "        count = len(list(word))\n",
    "        print(f'{word} has {count} characters')\n",
    "        \n",
    "x"
   ]
  },
  {
   "cell_type": "code",
   "execution_count": null,
   "metadata": {},
   "outputs": [],
   "source": [
    "# Retirando os duplicados\n",
    "nd = []\n",
    "for lists in genres:\n",
    "    for word in lists:\n",
    "        if word not in nd:\n",
    "            nd.append(word)\n",
    "            count = len(list(word))\n",
    "            print(f'{word} has {count} characters')\n",
    "        \n",
    "x"
   ]
  },
  {
   "cell_type": "markdown",
   "metadata": {
    "id": "rqdZUmi2vTJt"
   },
   "source": [
    "4) Escreva um programa que calcule o fatorial de um número (entre com o número usando input). Sabendo que: \n",
    "\n",
    "  a) n! = n*(n-1)*(n-2)*...*1 \n",
    "\n",
    "  b) 1! = 1\n",
    "\n",
    "  c) 0! = 1\n",
    "  \n",
    "  Dica: Use While  "
   ]
  },
  {
   "cell_type": "code",
   "execution_count": 66,
   "metadata": {},
   "outputs": [
    {
     "name": "stdout",
     "output_type": "stream",
     "text": [
      "Digite um número inteiro: 9\n",
      "362880\n"
     ]
    }
   ],
   "source": [
    "n = int(input('Digite um número inteiro: '))\n",
    "result = n*(n-1)\n",
    "n -= 1\n",
    "while n > 2:\n",
    "    n -= 1\n",
    "    result = result*(n)\n",
    "print(result)"
   ]
  },
  {
   "cell_type": "markdown",
   "metadata": {
    "id": "uCYFCuBvsIN8"
   },
   "source": [
    "**5) Desafio**\n",
    "\n",
    "Considerando o problema 3): \n",
    "\n",
    " 5.1) Crie um dicionário no qual cada chave representa o genero do filme; \n",
    "\n",
    " 5.2) Em um sistema de recomendação baseado em conteúdos, deseja-se saber as classificações (generos) de cada filme. Faça um programa que usando o dicionário criado em 5.1, retorne os generos associados a cada filme. (Dica: use um outro dicionário).\n"
   ]
  },
  {
   "cell_type": "code",
   "execution_count": 77,
   "metadata": {
    "id": "2ALomF0a8AjE"
   },
   "outputs": [
    {
     "data": {
      "text/plain": [
       "['Jumanji', 'How I Met Your Mother', 'Friends', 'Amigos para sempre']"
      ]
     },
     "execution_count": 77,
     "metadata": {},
     "output_type": "execute_result"
    }
   ],
   "source": [
    "# 5.1\n",
    "movies = [['Jumanji', 'Projeto Gemini','The old guard','WandaVision'],\n",
    "          ['Jumanji','How I Met Your Mother','Friends', 'Amigos para sempre'],\n",
    "          ['Amigos para sempre', 'After','Game of Thrones', 'WandaVision']\n",
    "         ]\n",
    "genres = ['Action', 'Comedy', 'Drama']\n",
    "\n",
    "movies_genres = dict(zip(genres, movies))"
   ]
  },
  {
   "cell_type": "code",
   "execution_count": null,
   "metadata": {},
   "outputs": [],
   "source": [
    "# 5.2\n"
   ]
  },
  {
   "cell_type": "markdown",
   "metadata": {
    "id": "bCw260L9Iv1S"
   },
   "source": [
    "## Exercícios de Class (Retirado do Livro - Python Crash Course)\n",
    " \n",
    " 1)\n",
    "\n",
    "(a) Make a class called User. \n",
    "\n",
    "(b) Create two attributes called first_name and last_name, and then create several other attributes that are typically stored in a user profile. \n",
    "\n",
    "(c) Make a method called describe_user() that prints a summary of the user’s information. \n",
    "\n",
    "(d) Make another method called greet_user() that prints a personalized greeting to the user."
   ]
  },
  {
   "cell_type": "code",
   "execution_count": 98,
   "metadata": {},
   "outputs": [
    {
     "name": "stdout",
     "output_type": "stream",
     "text": [
      "Hello, Lucas Sousa\n"
     ]
    }
   ],
   "source": [
    "# # 1.\n",
    "# class User(object):\n",
    "#     def __init__(self, first_name, last_name):\n",
    "#         self.first_name = first_name\n",
    "#         self.last_name = last_name\n",
    "#     def describe_user(self, user):\n",
    "#         print(f'Name: {user.first_name}\\nLast Name: {user.last_name}')\n",
    "#     def greet_user(self, user):\n",
    "#         print(f'Hello, {user.first_name} {user.last_name}')\n",
    "# person = User('Lucas', 'Sousa')\n",
    "# person.greet_user(person)"
   ]
  },
  {
   "cell_type": "markdown",
   "metadata": {
    "id": "901N8ev5I3ZZ"
   },
   "source": [
    "2)\n",
    "\n",
    "(a) Add an attribute called login_attempts to your User class from Exercise. \n",
    "\n",
    "(b) Write a method called increment_login_attempts() that increments the value of login_attempts by 1. \n",
    "\n",
    "(c) Write another method called reset_login_attempts() that resets the value of login_attempts to 0.\n",
    "\n",
    "(d) Make an instance of the User class and call increment_login_attempts() several times. \n",
    "\n",
    "(e) Print the value of login_attempts to make sure it was incremented properly, and then call reset_login_attempts(). \n",
    "\n",
    "(f) Print login_attempts again to make sure it was reset to 0."
   ]
  },
  {
   "cell_type": "code",
   "execution_count": 1,
   "metadata": {},
   "outputs": [],
   "source": [
    "# 2.\n",
    "class User(object):\n",
    "    def __init__(self, first_name, last_name, login_attempts=0):\n",
    "        self.first_name = first_name\n",
    "        self.last_name = last_name\n",
    "        self.login_attempts = 0\n",
    "    def describe_user(self, user):\n",
    "        print(f'Name: {user.first_name}\\nLast Name: {user.last_name}')\n",
    "    def greet_user(self, user):\n",
    "        print(f'Hello, {user.first_name} {user.last_name}')\n",
    "    def increment_login_attempts(self):\n",
    "        self.login_attempts += 1\n",
    "    def reset_login_attempts(self):\n",
    "        self.login_attempts = 0\n",
    "        \n",
    "        \n",
    "person = User('Lucas', 'Sousa')\n",
    "\n",
    "person.increment_login_attempts()\n",
    "person.increment_login_attempts()\n",
    "person.increment_login_attempts()"
   ]
  },
  {
   "cell_type": "code",
   "execution_count": 30,
   "metadata": {},
   "outputs": [
    {
     "name": "stdout",
     "output_type": "stream",
     "text": [
      "Antes: 3\n",
      "Depois: 0\n"
     ]
    }
   ],
   "source": [
    "print(f'Before reset: {person.login_attempts}')\n",
    "person.reset_login_attempts()\n",
    "print(f'After reset: {person.login_attempts}')"
   ]
  },
  {
   "cell_type": "markdown",
   "metadata": {
    "id": "7O8TiJDoI_71"
   },
   "source": [
    "3)\n",
    "\n",
    "Admin: An administrator is a special kind of user. \n",
    "(a) Write a class called Admin that inherits from the User class you wrote .\n",
    "\n",
    "(b) Add an attribute, privileges, that stores a list of strings like \"can add post\", \"can delete post\", \"can ban user\", and so on.\n",
    "\n",
    "(C) Write a method called show_privileges() that lists the administrator’s set of privileges.\n",
    "\n",
    "(d) Create an instance of Admin, and call your method."
   ]
  },
  {
   "cell_type": "code",
   "execution_count": 14,
   "metadata": {
    "scrolled": true
   },
   "outputs": [
    {
     "name": "stdout",
     "output_type": "stream",
     "text": [
      "- can add post\n",
      "- can delete post\n",
      "- can ban user\n",
      "- can block comments\n"
     ]
    }
   ],
   "source": [
    "# 3.\n",
    "class Admin(User):\n",
    "    privileges = ['can add post', 'can delete post', \n",
    "                  'can ban user', 'can block comments']\n",
    "    def show_privileges(self):\n",
    "        for priv in self.privileges:\n",
    "            print(f'- {priv}')\n",
    "admin = Admin('Lucas', 'Sousa')\n",
    "admin.show_privileges()"
   ]
  },
  {
   "cell_type": "markdown",
   "metadata": {
    "id": "E4P2Qk_TJHRE"
   },
   "source": [
    "4)\n",
    "\n",
    "(a) Write a separate Privileges class. The class should have one attribute, privileges, that stores a list of strings as described in previous Exercise.\n",
    "\n",
    "(b) Move the show_privileges() method to this class."
   ]
  },
  {
   "cell_type": "code",
   "execution_count": 35,
   "metadata": {},
   "outputs": [
    {
     "name": "stdout",
     "output_type": "stream",
     "text": [
      "- can add post\n",
      "- can delete post\n",
      "- can ban user\n",
      "- can block comments\n"
     ]
    }
   ],
   "source": [
    "# 4.\n",
    "class Privileges(object):\n",
    "    def __init__(self, privileges = ['can add post', 'can delete post', 'can ban user', 'can block comments']):\n",
    "        self.privileges = ['can add post', 'can delete post', \n",
    "                           'can ban user', 'can block comments']\n",
    "    def show_privileges(self):\n",
    "        for priv in self.privileges:\n",
    "            print(f'- {priv}')\n",
    "a = Privileges()\n",
    "a.show_privileges()"
   ]
  },
  {
   "cell_type": "markdown",
   "metadata": {
    "id": "wiOQCnMUJMoa"
   },
   "source": [
    "\n",
    "5)\n",
    "\n",
    "(a) Make a Privileges instance as an attribute in the Admin class.\n",
    "\n",
    "(b) Create a new instance of Admin and use your method to show its privileges."
   ]
  },
  {
   "cell_type": "code",
   "execution_count": null,
   "metadata": {},
   "outputs": [],
   "source": []
  }
 ],
 "metadata": {
  "colab": {
   "authorship_tag": "ABX9TyP6SPY7fNj9LI23GJAdnUbr",
   "collapsed_sections": [],
   "include_colab_link": true,
   "name": "Semana3_Exercícios.ipynb",
   "provenance": []
  },
  "kernelspec": {
   "display_name": "Python 3",
   "language": "python",
   "name": "python3"
  },
  "language_info": {
   "codemirror_mode": {
    "name": "ipython",
    "version": 3
   },
   "file_extension": ".py",
   "mimetype": "text/x-python",
   "name": "python",
   "nbconvert_exporter": "python",
   "pygments_lexer": "ipython3",
   "version": "3.8.8"
  }
 },
 "nbformat": 4,
 "nbformat_minor": 4
}
